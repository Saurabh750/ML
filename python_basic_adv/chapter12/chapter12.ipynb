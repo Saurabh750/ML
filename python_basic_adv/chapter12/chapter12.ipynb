{
 "cells": [
  {
   "cell_type": "code",
   "execution_count": 4,
   "metadata": {},
   "outputs": [],
   "source": [
    "################################ XML ######################################\n",
    "\n",
    "# XML is a generalized way of describing hierarchical structured data.\n",
    "\n",
    "# It has start and end tags\n",
    "# First element in every XML document is called the root element. An XML document can only have one root element.\n",
    "\n",
    "# By putting a / character in the start tag, you can skip the end tag altogther.\n",
    "# <foo>            =>       <foo/>\n",
    "# </foo>"
   ]
  },
  {
   "cell_type": "code",
   "execution_count": null,
   "metadata": {},
   "outputs": [],
   "source": [
    "# Namespaces usually look like URLs. You use an xmlns declaration to define a default namespace. \n",
    "# XML elements can be declared in different namespaces.\n",
    "\n",
    "<feed xmlns='http://www.w3.org/2005/Atom'>  # feed element is in the http://www.w3.org/2005/Atom namespace\n",
    "  <title>dive into mark</title>             # title element is also in the http://www.w3.org/2005/Atom namespace     \n",
    "</feed>\n",
    "\n",
    "# Can also be written as:\n",
    "<atom:feed xmlns:atom='http://www.w3.org/2005/Atom'> \n",
    "  <atom:title>dive into mark</atom:title>             \n",
    "</atom:feed>\n",
    "\n",
    "# Namespace + element name = XML identity\n",
    "\n",
    "<feed xmlns='http://www.w3.org/2005/Atom' xml:lang='en'>\n",
    "# Any element can contain an xml:lang attribute, which declares the language of the element and its children."
   ]
  },
  {
   "cell_type": "code",
   "execution_count": null,
   "metadata": {},
   "outputs": [
    {
     "data": {
      "text/plain": [
       "<Element '{http://www.w3.org/2005/Atom}feed' at 0x00000146AB2DDFD0>"
      ]
     },
     "execution_count": 3,
     "metadata": {},
     "output_type": "execute_result"
    }
   ],
   "source": [
    "import xml.etree.ElementTree as etree\n",
    "\n",
    "tree = etree.parse('feed.xml')               # parse() function returns an object which represents the entire document.\n",
    "root = tree.getroot()                        # returns the root element of the document\n",
    "root"
   ]
  },
  {
   "cell_type": "code",
   "execution_count": 5,
   "metadata": {},
   "outputs": [
    {
     "name": "stdout",
     "output_type": "stream",
     "text": [
      "{http://www.w3.org/2005/Atom}feed\n",
      "9\n"
     ]
    }
   ],
   "source": [
    "#\n",
    "# In the ElementTree API, an element acts like a list. The items of the list are the element’s children.\n",
    "#\n",
    "\n",
    "print(root.tag)\n",
    "print(len(root))"
   ]
  },
  {
   "cell_type": "code",
   "execution_count": 6,
   "metadata": {},
   "outputs": [
    {
     "name": "stdout",
     "output_type": "stream",
     "text": [
      "<Element '{http://www.w3.org/2005/Atom}title' at 0x00000146AB2DE2A0>\n",
      "<Element '{http://www.w3.org/2005/Atom}subtitle' at 0x00000146AB2DFE70>\n",
      "<Element '{http://www.w3.org/2005/Atom}id' at 0x00000146AB658E00>\n",
      "<Element '{http://www.w3.org/2005/Atom}updated' at 0x00000146AB658EA0>\n",
      "<Element '{http://www.w3.org/2005/Atom}link' at 0x00000146AB658F40>\n",
      "<Element '{http://www.w3.org/2005/Atom}link' at 0x00000146AB659300>\n",
      "<Element '{http://www.w3.org/2005/Atom}entry' at 0x00000146AB6592B0>\n",
      "<Element '{http://www.w3.org/2005/Atom}entry' at 0x00000146AB659EE0>\n",
      "<Element '{http://www.w3.org/2005/Atom}entry' at 0x00000146AB65A340>\n"
     ]
    }
   ],
   "source": [
    "for child in root:\n",
    "    print(child)"
   ]
  },
  {
   "cell_type": "code",
   "execution_count": 8,
   "metadata": {},
   "outputs": [
    {
     "name": "stdout",
     "output_type": "stream",
     "text": [
      "{'{http://www.w3.org/XML/1998/namespace}lang': 'en'}\n",
      "{'rel': 'alternate', 'type': 'text/html', 'href': 'http://diveintomark.org/'}\n"
     ]
    }
   ],
   "source": [
    "#\n",
    "# Attributes of elements act like dictionaries\n",
    "#\n",
    "print(root.attrib)\n",
    "print(root[4].attrib)"
   ]
  },
  {
   "cell_type": "code",
   "execution_count": 10,
   "metadata": {},
   "outputs": [
    {
     "data": {
      "text/plain": [
       "[<Element '{http://www.w3.org/2005/Atom}entry' at 0x00000146AB66F5B0>,\n",
       " <Element '{http://www.w3.org/2005/Atom}entry' at 0x00000146AB66DF30>,\n",
       " <Element '{http://www.w3.org/2005/Atom}entry' at 0x00000146AB66D990>]"
      ]
     },
     "execution_count": 10,
     "metadata": {},
     "output_type": "execute_result"
    }
   ],
   "source": [
    "#\n",
    "# Finding specific elements inside XML\n",
    "#\n",
    "import xml.etree.ElementTree as etree\n",
    "tree = etree.parse('feed.xml')\n",
    "\n",
    "root = tree.getroot()\n",
    "root.findall('{http://www.w3.org/2005/Atom}entry')"
   ]
  },
  {
   "cell_type": "code",
   "execution_count": 11,
   "metadata": {},
   "outputs": [
    {
     "data": {
      "text/plain": [
       "'{http://www.w3.org/2005/Atom}feed'"
      ]
     },
     "execution_count": 11,
     "metadata": {},
     "output_type": "execute_result"
    }
   ],
   "source": [
    "root.tag"
   ]
  },
  {
   "cell_type": "code",
   "execution_count": 13,
   "metadata": {},
   "outputs": [
    {
     "name": "stdout",
     "output_type": "stream",
     "text": [
      "[]\n",
      "[]\n"
     ]
    }
   ],
   "source": [
    "print(root.findall('{http://www.w3.org/2005/Atom}feed'))    # feed element has no child called feed, so empty result\n",
    "print(root.findall('{http://www.w3.org/2005/Atom}author'))  # author element is present but it is not a direct child of feed, so\n",
    "                                                            # blank result"
   ]
  },
  {
   "cell_type": "code",
   "execution_count": 14,
   "metadata": {},
   "outputs": [
    {
     "data": {
      "text/plain": [
       "3"
      ]
     },
     "execution_count": 14,
     "metadata": {},
     "output_type": "execute_result"
    }
   ],
   "source": [
    "entries = tree.findall('{http://www.w3.org/2005/Atom}entry')\n",
    "len(entries)"
   ]
  },
  {
   "cell_type": "code",
   "execution_count": 16,
   "metadata": {},
   "outputs": [
    {
     "data": {
      "text/plain": [
       "'Dive into history, 2009 edition'"
      ]
     },
     "execution_count": 16,
     "metadata": {},
     "output_type": "execute_result"
    }
   ],
   "source": [
    "# find() method returns the first matching element\n",
    "\n",
    "title_element = entries[0].find('{http://www.w3.org/2005/Atom}title')\n",
    "title_element.text"
   ]
  },
  {
   "cell_type": "code",
   "execution_count": null,
   "metadata": {},
   "outputs": [],
   "source": [
    "#\n",
    "# For searching elements at all nesting levels, use './/' before search element\n",
    "#\n",
    "\n",
    "all_links = tree.findall('.//{http://www.w3.org/2005/Atom}link')"
   ]
  },
  {
   "cell_type": "code",
   "execution_count": 19,
   "metadata": {},
   "outputs": [
    {
     "data": {
      "text/plain": [
       "[<Element '{http://www.w3.org/2005/Atom}link' at 0x00000146AB66D120>,\n",
       " <Element '{http://www.w3.org/2005/Atom}link' at 0x00000146AB66D8F0>,\n",
       " <Element '{http://www.w3.org/2005/Atom}link' at 0x00000146AB66EBB0>,\n",
       " <Element '{http://www.w3.org/2005/Atom}link' at 0x00000146AB66EF70>,\n",
       " <Element '{http://www.w3.org/2005/Atom}link' at 0x00000146AB66E200>]"
      ]
     },
     "execution_count": 19,
     "metadata": {},
     "output_type": "execute_result"
    }
   ],
   "source": [
    "all_links"
   ]
  },
  {
   "cell_type": "code",
   "execution_count": 20,
   "metadata": {},
   "outputs": [
    {
     "data": {
      "text/plain": [
       "[<Element {http://www.w3.org/2005/Atom}entry at 0x146ab662200>,\n",
       " <Element {http://www.w3.org/2005/Atom}entry at 0x146ab662180>,\n",
       " <Element {http://www.w3.org/2005/Atom}entry at 0x146ab661fc0>]"
      ]
     },
     "execution_count": 20,
     "metadata": {},
     "output_type": "execute_result"
    }
   ],
   "source": [
    "# lxml is an open source third-party library that builds on the popular libxml2 parser. \n",
    "# It provides a 100% compatible ElementTree API\n",
    "\n",
    "from lxml import etree\n",
    "\n",
    "tree = etree.parse('feed.xml')\n",
    "root = tree.getroot()\n",
    "root.findall('{http://www.w3.org/2005/Atom}entry')"
   ]
  },
  {
   "cell_type": "code",
   "execution_count": 22,
   "metadata": {},
   "outputs": [
    {
     "data": {
      "text/plain": [
       "[<Element {http://www.w3.org/2005/Atom}link at 0x146a9e21fc0>,\n",
       " <Element {http://www.w3.org/2005/Atom}link at 0x146ab5aee40>,\n",
       " <Element {http://www.w3.org/2005/Atom}link at 0x146ab5adc80>,\n",
       " <Element {http://www.w3.org/2005/Atom}link at 0x146ab5af140>,\n",
       " <Element {http://www.w3.org/2005/Atom}link at 0x146ab5ad6c0>]"
      ]
     },
     "execution_count": 22,
     "metadata": {},
     "output_type": "execute_result"
    }
   ],
   "source": [
    "# For large XML documents, lxml is significantly faster than the built-in ElementTree library.\n",
    "# Searches through all elements which have Atom namespace and href attribute\n",
    "\n",
    "tree.findall('.//{http://www.w3.org/2005/Atom}*[@href]')"
   ]
  },
  {
   "cell_type": "code",
   "execution_count": 23,
   "metadata": {},
   "outputs": [
    {
     "data": {
      "text/plain": [
       "[<Element {http://www.w3.org/2005/Atom}link at 0x146a9e21fc0>]"
      ]
     },
     "execution_count": 23,
     "metadata": {},
     "output_type": "execute_result"
    }
   ],
   "source": [
    "# Finding atom elements with a specific href value\n",
    "\n",
    "tree.findall(\".//{http://www.w3.org/2005/Atom}*[@href='http://diveintomark.org/']\")"
   ]
  },
  {
   "cell_type": "code",
   "execution_count": 27,
   "metadata": {},
   "outputs": [],
   "source": [
    "x = tree.findall(\".//{http://www.w3.org/2005/Atom}*[@href='http://diveintomark.org/']\")"
   ]
  },
  {
   "cell_type": "code",
   "execution_count": null,
   "metadata": {},
   "outputs": [],
   "source": []
  }
 ],
 "metadata": {
  "language_info": {
   "name": "python"
  }
 },
 "nbformat": 4,
 "nbformat_minor": 2
}
