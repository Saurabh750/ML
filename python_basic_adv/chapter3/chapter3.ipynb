{
 "cells": [
  {
   "cell_type": "code",
   "execution_count": 17,
   "metadata": {},
   "outputs": [
    {
     "name": "stdout",
     "output_type": "stream",
     "text": [
      "d:\\Machine_Learning\\ML\\python_basic_adv\\chapter3\n",
      "d:\\Machine_Learning\\ML\\python_basic_adv\n"
     ]
    }
   ],
   "source": [
    "import os\n",
    "print(os.getcwd())              # Current working directory\n",
    "\n",
    "# To change the current working directory\n",
    "os.chdir(\"d:\\Machine_Learning\\ML\\python_basic_adv\")\n",
    "print(os.getcwd())"
   ]
  },
  {
   "cell_type": "code",
   "execution_count": 18,
   "metadata": {},
   "outputs": [
    {
     "name": "stdout",
     "output_type": "stream",
     "text": [
      "d:\\Machine_Learning\\ML\\python_basic_adv\\chapter3\n",
      "d:\\Machine_Learning\\ML\\python_basic_adv\n",
      "d:\\Machine_Learning\\ML\\python_basic_adv\\chapter3   chapter3.ipynb\n",
      "('chapter3', '.ipynb')\n"
     ]
    }
   ],
   "source": [
    "# os.path module contains functions for manipulating filenames & directory names\n",
    "import os\n",
    "\n",
    "print(os.path.join(os.getcwd(), 'chapter3'))\n",
    "print(os.getcwd())\n",
    "os.chdir(os.path.join(os.getcwd(), 'chapter3'))\n",
    "\n",
    "(directory, filename) = os.path.split(os.path.join(os.getcwd(), 'chapter3.ipynb'))\n",
    "print(directory, \" \", filename)\n",
    "\n",
    "# os.path.splitext() function splits a filename and returns a tuple containing the filename and the file extension\n",
    "print(os.path.splitext(filename))"
   ]
  },
  {
   "cell_type": "code",
   "execution_count": 27,
   "metadata": {},
   "outputs": [
    {
     "name": "stdout",
     "output_type": "stream",
     "text": [
      "['chapter1\\\\', 'chapter2\\\\', 'chapter3\\\\']\n",
      "['chapter1\\\\chapter1.ipynb', 'chapter2\\\\chapter2.ipynb', 'chapter3\\\\chapter3.ipynb']\n",
      "[]\n"
     ]
    }
   ],
   "source": [
    "# glob module used to get contents of a directory programetically\n",
    "import glob\n",
    "os.chdir('d:\\Machine_Learning\\ML\\python_basic_adv')\n",
    "\n",
    "print(glob.glob(\"chapter*/\"))\n",
    "print(glob.glob(\"chapter*/*\"))\n",
    "print(glob.glob(\"*.ipynb\"))"
   ]
  },
  {
   "cell_type": "code",
   "execution_count": 31,
   "metadata": {},
   "outputs": [
    {
     "name": "stdout",
     "output_type": "stream",
     "text": [
      "d:\\Machine_Learning\\ML\\python_basic_adv\\chapter3\n",
      "1740117422.5780406\n",
      "3098\n"
     ]
    }
   ],
   "source": [
    "# Getting file metadata, i.e. creation date, last modified date, file size\n",
    "import os\n",
    "os.chdir(os.path.join('d:\\Machine_Learning\\ML\\python_basic_adv', 'chapter3'))\n",
    "print(os.getcwd())\n",
    "\n",
    "metadata = os.stat('chapter3.ipynb')\n",
    "print(metadata.st_mtime)\n",
    "print(metadata.st_size)\n"
   ]
  },
  {
   "cell_type": "code",
   "execution_count": 32,
   "metadata": {},
   "outputs": [
    {
     "name": "stdout",
     "output_type": "stream",
     "text": [
      "d:\\Machine_Learning\\ML\\python_basic_adv\\chapter3\n",
      "D:\\Machine_Learning\\ML\\python_basic_adv\\chapter3\\chapter3.ipynb\n"
     ]
    }
   ],
   "source": [
    "# os.path.realpath !!\n",
    "import os\n",
    "print(os.getcwd())\n",
    "print(os.path.realpath('chapter3.ipynb'))"
   ]
  },
  {
   "cell_type": "code",
   "execution_count": 34,
   "metadata": {},
   "outputs": [
    {
     "name": "stdout",
     "output_type": "stream",
     "text": [
      "[1, 4, 9, 16]\n",
      "[1, 2, 3, 4]\n"
     ]
    }
   ],
   "source": [
    "############ List comprehension #############\n",
    "\n",
    "l = [1, 2, 3, 4]\n",
    "print([i ** 2 for i in l])\n",
    "print(l)                                      # List comprehension creates a new list"
   ]
  },
  {
   "cell_type": "code",
   "execution_count": 35,
   "metadata": {},
   "outputs": [
    {
     "name": "stdout",
     "output_type": "stream",
     "text": [
      "['D:\\\\Machine_Learning\\\\ML\\\\python_basic_adv\\\\chapter1\\\\chapter1.ipynb', 'D:\\\\Machine_Learning\\\\ML\\\\python_basic_adv\\\\chapter2\\\\chapter2.ipynb', 'D:\\\\Machine_Learning\\\\ML\\\\python_basic_adv\\\\chapter3\\\\chapter3.ipynb']\n"
     ]
    }
   ],
   "source": [
    "os.chdir('d:\\Machine_Learning\\ML\\python_basic_adv')\n",
    "print([os.path.realpath(f) for f in glob.glob(\"*/*\")])"
   ]
  },
  {
   "cell_type": "code",
   "execution_count": 43,
   "metadata": {},
   "outputs": [
    {
     "name": "stdout",
     "output_type": "stream",
     "text": [
      "['chapter2\\\\chapter2.ipynb', 'chapter3\\\\chapter3.ipynb']\n"
     ]
    }
   ],
   "source": [
    "print([f for f in glob.glob(\"*/*\") if os.stat(f).st_size > 5400])"
   ]
  },
  {
   "cell_type": "code",
   "execution_count": 44,
   "metadata": {},
   "outputs": [
    {
     "data": {
      "text/plain": [
       "[(5398,\n",
       "  'D:\\\\Machine_Learning\\\\ML\\\\python_basic_adv\\\\chapter1\\\\chapter1.ipynb'),\n",
       " (16137,\n",
       "  'D:\\\\Machine_Learning\\\\ML\\\\python_basic_adv\\\\chapter2\\\\chapter2.ipynb'),\n",
       " (5710,\n",
       "  'D:\\\\Machine_Learning\\\\ML\\\\python_basic_adv\\\\chapter3\\\\chapter3.ipynb')]"
      ]
     },
     "execution_count": 44,
     "metadata": {},
     "output_type": "execute_result"
    }
   ],
   "source": [
    "[(os.stat(f).st_size, os.path.realpath(f)) for f in glob.glob(\"*/*\")]"
   ]
  },
  {
   "cell_type": "code",
   "execution_count": 49,
   "metadata": {},
   "outputs": [
    {
     "name": "stdout",
     "output_type": "stream",
     "text": [
      "os.stat_result(st_mode=33206, st_ino=1407374883930080, st_dev=4007345827, st_nlink=1, st_uid=0, st_gid=0, st_size=5398, st_atime=1740068638, st_mtime=1740068529, st_ctime=1740028160)\n",
      "dict_keys(['chapter1\\\\chapter1.ipynb', 'chapter2\\\\chapter2.ipynb', 'chapter3\\\\chapter3.ipynb'])\n",
      "dict_values([os.stat_result(st_mode=33206, st_ino=1407374883930080, st_dev=4007345827, st_nlink=1, st_uid=0, st_gid=0, st_size=5398, st_atime=1740068638, st_mtime=1740068529, st_ctime=1740028160), os.stat_result(st_mode=33206, st_ino=1970324837149018, st_dev=4007345827, st_nlink=1, st_uid=0, st_gid=0, st_size=16137, st_atime=1740078214, st_mtime=1740078155, st_ctime=1740068693), os.stat_result(st_mode=33206, st_ino=562949953798883, st_dev=4007345827, st_nlink=1, st_uid=0, st_gid=0, st_size=6476, st_atime=1740119299, st_mtime=1740119299, st_ctime=1740114314)])\n"
     ]
    }
   ],
   "source": [
    "############## Dictionary Comprehension ###############\n",
    "\n",
    "d = {f:os.stat(f) for f in glob.glob(\"*/*\")}\n",
    "print(d['chapter1\\\\chapter1.ipynb'])\n",
    "print(d.keys())\n",
    "print(d.values())"
   ]
  },
  {
   "cell_type": "code",
   "execution_count": 53,
   "metadata": {},
   "outputs": [
    {
     "data": {
      "text/plain": [
       "{1: 'a', 2: 'b', 3: 'c'}"
      ]
     },
     "execution_count": 53,
     "metadata": {},
     "output_type": "execute_result"
    }
   ],
   "source": [
    "# Swapping keys and values of a dictionary\n",
    "d = {'a': 1, 'b': 2, 'c': 3}\n",
    "{val:key for key, val in d.items()}\n",
    "\n",
    "# only works if the values of the dictionary are immutable, like strings or tuples"
   ]
  },
  {
   "cell_type": "code",
   "execution_count": 56,
   "metadata": {},
   "outputs": [
    {
     "data": {
      "text/plain": [
       "[0, 1, 2, 3, 4, 5, 6, 7, 8, 9]"
      ]
     },
     "execution_count": 56,
     "metadata": {},
     "output_type": "execute_result"
    }
   ],
   "source": [
    "[i for i in range(0,10)]"
   ]
  },
  {
   "cell_type": "code",
   "execution_count": 60,
   "metadata": {},
   "outputs": [
    {
     "name": "stdout",
     "output_type": "stream",
     "text": [
      "[0, 1, 2, 3, 4, 5, 6, 7, 8, 9]\n"
     ]
    }
   ],
   "source": [
    "l = list(range(0,10))\n",
    "print(l)"
   ]
  },
  {
   "cell_type": "code",
   "execution_count": 57,
   "metadata": {},
   "outputs": [
    {
     "data": {
      "text/plain": [
       "{0, 1, 2, 3, 4, 5, 6, 7, 8, 9}"
      ]
     },
     "execution_count": 57,
     "metadata": {},
     "output_type": "execute_result"
    }
   ],
   "source": [
    "{i for i in range(0,10)}"
   ]
  },
  {
   "cell_type": "code",
   "execution_count": 59,
   "metadata": {},
   "outputs": [
    {
     "name": "stdout",
     "output_type": "stream",
     "text": [
      "{0, 1, 2, 3, 4, 5, 6, 7, 8, 9}\n"
     ]
    }
   ],
   "source": [
    "s = set(range(0,10))\n",
    "print(s)"
   ]
  },
  {
   "cell_type": "code",
   "execution_count": 61,
   "metadata": {},
   "outputs": [
    {
     "data": {
      "text/plain": [
       "{0, 1, 4, 9, 16, 25, 36, 49, 64, 81}"
      ]
     },
     "execution_count": 61,
     "metadata": {},
     "output_type": "execute_result"
    }
   ],
   "source": [
    "{i**2 for i in s}"
   ]
  },
  {
   "cell_type": "code",
   "execution_count": null,
   "metadata": {},
   "outputs": [],
   "source": []
  }
 ],
 "metadata": {
  "language_info": {
   "name": "python"
  }
 },
 "nbformat": 4,
 "nbformat_minor": 2
}
