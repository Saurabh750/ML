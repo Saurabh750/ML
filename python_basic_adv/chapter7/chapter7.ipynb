{
 "cells": [
  {
   "cell_type": "code",
   "execution_count": 1,
   "metadata": {},
   "outputs": [],
   "source": [
    "################################ Classes & Iterators ##################################\n",
    "\n",
    "# __init__ method is NOT a constructor of a class, because object is already created before calling it.\n",
    "# __init__ is the first method called after an instance is created.\n",
    "# __init__ returns None"
   ]
  },
  {
   "cell_type": "code",
   "execution_count": 2,
   "metadata": {},
   "outputs": [],
   "source": [
    "# iter(f) calls f.__iter__\n",
    "# next(f) calls f.__next__"
   ]
  },
  {
   "cell_type": "code",
   "execution_count": null,
   "metadata": {},
   "outputs": [],
   "source": []
  }
 ],
 "metadata": {
  "language_info": {
   "name": "python"
  }
 },
 "nbformat": 4,
 "nbformat_minor": 2
}
