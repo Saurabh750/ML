{
 "cells": [
  {
   "cell_type": "code",
   "execution_count": 11,
   "metadata": {},
   "outputs": [
    {
     "name": "stdout",
     "output_type": "stream",
     "text": [
      "100 NORTH MAIN RD.\n",
      "100 NORTH BRD. RD.\n",
      "100 NORTH BROAD RD.\n",
      "100 NORTH BROAD RD.\n"
     ]
    }
   ],
   "source": [
    "# Regular expressions are a powerful and (mostly) standardized\n",
    "#      way of searching, replacing, and parsing text with complex patterns of characters.\n",
    "\n",
    "s = '100 NORTH MAIN ROAD'\n",
    "print(s.replace('ROAD', 'RD.'))\n",
    "\n",
    "s = '100 NORTH BROAD ROAD'\n",
    "print(s.replace('ROAD', 'RD.'))        # --> Not expected output\n",
    "\n",
    "print(s[:16] + s[16:].replace('ROAD', 'RD.'))\n",
    "\n",
    "import re\n",
    "print(re.sub('ROAD$', 'RD.', s))       # $ => Word to be replaced is at the last"
   ]
  },
  {
   "cell_type": "code",
   "execution_count": 19,
   "metadata": {},
   "outputs": [
    {
     "name": "stdout",
     "output_type": "stream",
     "text": [
      "<re.Match object; span=(0, 1), match='M'>\n",
      "<re.Match object; span=(0, 2), match='MM'>\n",
      "<re.Match object; span=(0, 3), match='MMM'>\n",
      "None\n"
     ]
    }
   ],
   "source": [
    "# Pattern matching\n",
    "# '^' -> matches start of the string\n",
    "# '$' -> matches end of the string\n",
    "# '?' -> optionally matches a single character. For eg: M? will check if M exists. \n",
    "# ? takes care that it is not hard and fast for character to be present in the string\n",
    "\n",
    "#### Checking for thousands 'M' in Roman Numerals\n",
    "\n",
    "import re\n",
    "\n",
    "pattern = \"^M?M?M?$\"                          # String containing only M's with count 0 to 3 will match pattern\n",
    "print(re.search(pattern, 'M'))                # 'M' matches the pattern\n",
    "print(re.search(pattern, 'MM'))\n",
    "print(re.search(pattern, 'MMM'))\n",
    "print(re.search(pattern, 'MMMM'))"
   ]
  },
  {
   "cell_type": "code",
   "execution_count": 24,
   "metadata": {},
   "outputs": [
    {
     "name": "stdout",
     "output_type": "stream",
     "text": [
      "None\n",
      "<re.Match object; span=(0, 2), match='aM'>\n",
      "<re.Match object; span=(0, 1), match='a'>\n"
     ]
    }
   ],
   "source": [
    "pattern = \"^aM?M?\"\n",
    "print(re.search(pattern, 'Mabc'))\n",
    "print(re.search(pattern, 'aM'))\n",
    "print(re.search(pattern, 'abMcd'))"
   ]
  },
  {
   "cell_type": "code",
   "execution_count": 29,
   "metadata": {},
   "outputs": [
    {
     "name": "stdout",
     "output_type": "stream",
     "text": [
      "<re.Match object; span=(0, 3), match='MCM'>\n",
      "<re.Match object; span=(0, 2), match='MD'>\n",
      "<re.Match object; span=(0, 6), match='MMMCCC'>\n",
      "None\n",
      "<re.Match object; span=(0, 0), match=''>\n"
     ]
    }
   ],
   "source": [
    "#### Checking for Hundreds in Roman Numerals\n",
    "\n",
    "import re\n",
    "pattern = '^M?M?M?(CM|CD|D?C?C?C?)$'\n",
    "print(re.search(pattern, 'MCM'))\n",
    "print(re.search(pattern, 'MD'))\n",
    "print(re.search(pattern, 'MMMCCC'))\n",
    "print(re.search(pattern, 'MCMC'))\n",
    "print(re.search(pattern, ''))"
   ]
  },
  {
   "cell_type": "code",
   "execution_count": 28,
   "metadata": {},
   "outputs": [
    {
     "name": "stdout",
     "output_type": "stream",
     "text": [
      "<re.Match object; span=(0, 1), match='M'>\n",
      "<re.Match object; span=(0, 2), match='MM'>\n",
      "<re.Match object; span=(0, 3), match='MMM'>\n",
      "None\n"
     ]
    }
   ],
   "source": [
    "import re\n",
    "pattern = '^M{0,3}$'                   # if you want to match at least one but no more than three M characters, you could say M{1,3}\n",
    "print(re.search(pattern, 'M'))                # 'M' matches the pattern\n",
    "print(re.search(pattern, 'MM'))\n",
    "print(re.search(pattern, 'MMM'))\n",
    "print(re.search(pattern, 'MMMM'))"
   ]
  },
  {
   "cell_type": "code",
   "execution_count": 30,
   "metadata": {},
   "outputs": [
    {
     "name": "stdout",
     "output_type": "stream",
     "text": [
      "<re.Match object; span=(0, 5), match='MCMXL'>\n",
      "<re.Match object; span=(0, 4), match='MCML'>\n",
      "<re.Match object; span=(0, 5), match='MCMLX'>\n",
      "<re.Match object; span=(0, 7), match='MCMLXXX'>\n",
      "None\n"
     ]
    }
   ],
   "source": [
    "#### Checking for Tens in Roman Numerals\n",
    "\n",
    "pattern = '^M?M?M?(CM|CD|D?C?C?C?)(XC|XL|L?X?X?X?)$'\n",
    "# pattern can also be written as\n",
    "pattern_2 = '^M{0,3(CM|CD|D?C{0,3})(XC|XL|L?X{0,3})$'\n",
    "print(re.search(pattern, 'MCMXL'))\n",
    "print(re.search(pattern, 'MCML'))\n",
    "print(re.search(pattern, 'MCMLX'))\n",
    "print(re.search(pattern, 'MCMLXXX'))\n",
    "print(re.search(pattern, 'MCMLXXXX'))"
   ]
  },
  {
   "cell_type": "code",
   "execution_count": 32,
   "metadata": {},
   "outputs": [
    {
     "name": "stdout",
     "output_type": "stream",
     "text": [
      "('800', '555', '1212')\n",
      "None\n"
     ]
    }
   ],
   "source": [
    "##### Parsing phone numbers\n",
    "\n",
    "# \\d : matches any numeric digit (0-9)\n",
    "# \\D : matches anything other than digits\n",
    "\n",
    "# \\d{3} : \\d means “any numeric digit” (0 through 9). The {3} means “match exactly three numeric digits”\n",
    "\n",
    "phonePattern = re.compile(r'^(\\d{3})-(\\d{3})-(\\d{4})$')\n",
    "print(phonePattern.search('800-555-1212').groups())\n",
    "\n",
    "print(phonePattern.search('800-555-1212-1234'))"
   ]
  },
  {
   "cell_type": "code",
   "execution_count": 33,
   "metadata": {},
   "outputs": [
    {
     "data": {
      "text/plain": [
       "('800', '555', '1212', '1234567')"
      ]
     },
     "execution_count": 33,
     "metadata": {},
     "output_type": "execute_result"
    }
   ],
   "source": [
    "# \\d+ : remembered group of one or more digits\n",
    "phonePattern = re.compile(r'^(\\d{3})-(\\d{3})-(\\d{4})-(\\d+)$')\n",
    "phonePattern.search('800-555-1212-1234567').groups()"
   ]
  },
  {
   "cell_type": "code",
   "execution_count": 34,
   "metadata": {},
   "outputs": [
    {
     "name": "stdout",
     "output_type": "stream",
     "text": [
      "('800', '555', '1212', '1234')\n",
      "('800', '555', '1212', '1234')\n"
     ]
    }
   ],
   "source": [
    "phonePattern = re.compile(r'^(\\d{3})\\D+(\\d{3})\\D+(\\d{4})\\D+(\\d+)$')\n",
    "print(phonePattern.search('800 555 1212 1234').groups())\n",
    "print(phonePattern.search('800-555-1212-1234').groups())"
   ]
  },
  {
   "cell_type": "code",
   "execution_count": 35,
   "metadata": {},
   "outputs": [
    {
     "name": "stdout",
     "output_type": "stream",
     "text": [
      "('800', '555', '1212', '1234')\n"
     ]
    }
   ],
   "source": [
    "# \\D+  ==> 1 or more\n",
    "# \\D*  ==> 0 or more\n",
    "\n",
    "phonePattern = re.compile(r'^(\\d{3})\\D*(\\d{3})\\D*(\\d{4})\\D*(\\d*)$')\n",
    "print(phonePattern.search('80055512121234').groups())"
   ]
  },
  {
   "cell_type": "code",
   "execution_count": null,
   "metadata": {},
   "outputs": [],
   "source": [
    "# ^ matches the beginning of a string.\n",
    "# $ matches the end of a string.\n",
    "# \\b matches a word boundary.\n",
    "# \\d matches any numeric digit.\n",
    "# \\D matches any non-numeric character.\n",
    "# x? matches an optional x character (in other words, it matches an x zero or one times).\n",
    "# x* matches x zero or more times.\n",
    "# x+ matches x one or more times.\n",
    "# x{n,m} matches an x character at least n times, but not more than m times.\n",
    "# (a|b|c) matches exactly one of a, b or c.\n",
    "# (x) in general is a remembered group. \n",
    "# You can get the value of what matched by using the groups() method of the object returned by re.search."
   ]
  },
  {
   "cell_type": "code",
   "execution_count": null,
   "metadata": {},
   "outputs": [],
   "source": []
  }
 ],
 "metadata": {
  "language_info": {
   "name": "python"
  }
 },
 "nbformat": 4,
 "nbformat_minor": 2
}
