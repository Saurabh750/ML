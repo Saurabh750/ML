{
 "cells": [
  {
   "cell_type": "markdown",
   "metadata": {},
   "source": [
    "Strings are encoded and stored in memory or disk. There are different character encodings available.\n",
    "If user doesn't mention correct encoding we see strange question-mark-like characters\n",
    "ASCII is a type of encoding where English characters are represented by numbers 0 to 127\n",
    "'A' --> 65 ; 'a' --> 97\n",
    "\n",
    "Unicode is a system designed to represent every character from every language.\n",
    "Unicode represents each letter, character, or ideograph as a 4-byte number.\n",
    "UTF-32 stores each character in 4 bytes(!)\n",
    "Thus UTF-16 defined. It stores using 2 bytes\n",
    "In UTF-8, English characters represented using 1 byte. 0-127 just like ASCII"
   ]
  },
  {
   "cell_type": "code",
   "execution_count": 1,
   "metadata": {},
   "outputs": [],
   "source": [
    "# In Python 3, all strings are sequences of Unicode characters. \n",
    "# There is no such thing as a Python string encoded in UTF-8, or a Python string encoded as CP-1252. \n",
    "# “Is this string UTF-8?” is an invalid question. UTF-8 is a way of encoding characters as a sequence of bytes.\n",
    "# You can convert string into sequence of bytes using character encoding. Python 3 will help.\n",
    "# You can convert sequence of bytes into string. Python3 will help."
   ]
  },
  {
   "cell_type": "code",
   "execution_count": 4,
   "metadata": {},
   "outputs": [
    {
     "name": "stdout",
     "output_type": "stream",
     "text": [
      "My name is saurabh, I love Python!\n",
      "My name is Python, I love saurabh!\n"
     ]
    }
   ],
   "source": [
    "print(\"My name is {}, I love {}!\".format(\"saurabh\", \"Python\"))\n",
    "print(\"My name is {1}, I love {0}!\".format(\"saurabh\", \"Python\"))"
   ]
  },
  {
   "cell_type": "code",
   "execution_count": 5,
   "metadata": {},
   "outputs": [
    {
     "name": "stdout",
     "output_type": "stream",
     "text": [
      "1000 MB = 1 GB\n"
     ]
    }
   ],
   "source": [
    "size = ['MB', 'GB']\n",
    "print(\"1000 {0[0]} = 1 {0[1]}\".format(size))"
   ]
  },
  {
   "cell_type": "code",
   "execution_count": 7,
   "metadata": {},
   "outputs": [
    {
     "name": "stdout",
     "output_type": "stream",
     "text": [
      "Current working directory: os.getcwd()\n"
     ]
    }
   ],
   "source": [
    "import os\n",
    "print(\"Current working directory: {0}.getcwd()\".format(\"os\"))"
   ]
  },
  {
   "cell_type": "code",
   "execution_count": 8,
   "metadata": {},
   "outputs": [
    {
     "name": "stdout",
     "output_type": "stream",
     "text": [
      "['Finished files are the re-', 'sult of years of scientif-', 'ic study combined with the', 'experience of years.']\n"
     ]
    }
   ],
   "source": [
    "s = '''Finished files are the re-\n",
    "... sult of years of scientif-\n",
    "... ic study combined with the\n",
    "... experience of years.'''\n",
    "print(s.splitlines())"
   ]
  },
  {
   "cell_type": "code",
   "execution_count": 10,
   "metadata": {},
   "outputs": [
    {
     "data": {
      "text/plain": [
       "['Saurabh. Page. is. learning. Python 3.', '       Hello World is boring']"
      ]
     },
     "execution_count": 10,
     "metadata": {},
     "output_type": "execute_result"
    }
   ],
   "source": [
    "s = '''Saurabh. Page. is. learning. Python 3.\n",
    "       Hello World is boring'''\n",
    "s.splitlines()             \n",
    "\n",
    "# splitlines() method takes one multiline string and returns a list of strings, one for each line of the original"
   ]
  },
  {
   "cell_type": "code",
   "execution_count": 18,
   "metadata": {},
   "outputs": [
    {
     "name": "stdout",
     "output_type": "stream",
     "text": [
      "saurabh why are you writing like this?\n",
      "SAURABH WHY ARE YOU WRITING LIKE THIS?\n",
      "Saurabh why are you writing like this?\n"
     ]
    }
   ],
   "source": [
    "s = \"SauRabh Why aRe YoU wriTING liKe tHiS?\"\n",
    "print(s.lower())                              # -> Lowercase\n",
    "print(s.upper())                              # -> Uppercase\n",
    "print(s.lower().capitalize())                 # -> Capitalize"
   ]
  },
  {
   "cell_type": "code",
   "execution_count": 19,
   "metadata": {},
   "outputs": [
    {
     "name": "stdout",
     "output_type": "stream",
     "text": [
      "3\n",
      "1\n"
     ]
    }
   ],
   "source": [
    "# count -> returns number of times a substring occurs\n",
    "\n",
    "print(s.count('a'))\n",
    "print(s.count('Sau'))"
   ]
  },
  {
   "cell_type": "code",
   "execution_count": 27,
   "metadata": {},
   "outputs": [
    {
     "name": "stdout",
     "output_type": "stream",
     "text": [
      "['user=pilgrim', 'database=master', 'password=PapayaWhip']\n",
      "{'user': 'pilgrim', 'database': 'master', 'password': 'PapayaWhip'}\n"
     ]
    }
   ],
   "source": [
    "query = 'user=pilgrim&database=master&password=PapayaWhip'\n",
    "s = query.split('&')\n",
    "print(s)\n",
    "print({i.split('=')[0]:i.split('=')[1] for i in s})           # --> Dictionary comprehension!!"
   ]
  },
  {
   "cell_type": "code",
   "execution_count": 31,
   "metadata": {},
   "outputs": [
    {
     "name": "stdout",
     "output_type": "stream",
     "text": [
      "d\n",
      "d\n"
     ]
    }
   ],
   "source": [
    "by = b'd'\n",
    "print(by.decode())\n",
    "print(by.decode('ascii'))"
   ]
  },
  {
   "cell_type": "code",
   "execution_count": 38,
   "metadata": {},
   "outputs": [
    {
     "name": "stdout",
     "output_type": "stream",
     "text": [
      "b'\\xe6\\xb7\\xb1\\xe5\\x85\\xa5 Python'\n"
     ]
    },
    {
     "data": {
      "text/plain": [
       "'深入 Python'"
      ]
     },
     "execution_count": 38,
     "metadata": {},
     "output_type": "execute_result"
    }
   ],
   "source": [
    "a_string = '深入 Python'\n",
    "print(a_string.encode('utf-8'))\n",
    "by = a_string.encode('big5')\n",
    "by.decode('big5')\n",
    "# by.decode()                  ---> Gives error as no/wrong encoding type mentioned"
   ]
  },
  {
   "cell_type": "code",
   "execution_count": null,
   "metadata": {},
   "outputs": [],
   "source": [
    "# Python 3 assumes that each .py file uses UTF-8 character encoding."
   ]
  },
  {
   "cell_type": "code",
   "execution_count": 47,
   "metadata": {},
   "outputs": [
    {
     "name": "stdout",
     "output_type": "stream",
     "text": [
      "1\n",
      "1\n",
      "-1\n",
      "['s', 'mathss', 'chemS', '']\n",
      "sxymathssauchemSau\n"
     ]
    }
   ],
   "source": [
    "s = \"saumathssauchemSau\"\n",
    "print(s.index(\"au\"))                  # --> Returns index of first occurence of substring\n",
    "# print(s.index(\"Au\"))                --> Gives error as substring not found, it is case-sensitive\n",
    "print(s.find(\"au\"))                   # --> Returns index of first occurence of substring\n",
    "print(s.find(\"Au\"))                   # Returns -1 if substring not found\n",
    "\n",
    "print(s.split(\"au\"))\n",
    "\n",
    "print(s.replace('au', 'xy', 1))       # Replaces old substring with new substring, \n",
    "                                      # we can pass count, those number of substrings will be replaced"
   ]
  },
  {
   "cell_type": "code",
   "execution_count": null,
   "metadata": {},
   "outputs": [],
   "source": []
  }
 ],
 "metadata": {
  "language_info": {
   "name": "python"
  }
 },
 "nbformat": 4,
 "nbformat_minor": 2
}
