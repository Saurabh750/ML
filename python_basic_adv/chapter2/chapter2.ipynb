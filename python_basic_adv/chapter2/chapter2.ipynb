{
 "cells": [
  {
   "cell_type": "markdown",
   "metadata": {},
   "source": [
    "Important datatypes in Python:\n",
    "1) Boolean\n",
    "2) Numbers\n",
    "3) Strings\n",
    "4) Bytes and byte arrays\n",
    "5) Lists\n",
    "6) Tuples\n",
    "7) Sets\n",
    "8) Dictionaries"
   ]
  },
  {
   "cell_type": "code",
   "execution_count": 5,
   "metadata": {},
   "outputs": [
    {
     "name": "stdout",
     "output_type": "stream",
     "text": [
      "<class 'int'>\n"
     ]
    },
    {
     "data": {
      "text/plain": [
       "True"
      ]
     },
     "execution_count": 5,
     "metadata": {},
     "output_type": "execute_result"
    }
   ],
   "source": [
    "# Use the following to check datatype of a variable\n",
    "x = 10\n",
    "print(type(x))                         # Return int\n",
    "f = 10.023\n",
    "isinstance(f, float)                   # Return True"
   ]
  },
  {
   "cell_type": "code",
   "execution_count": null,
   "metadata": {},
   "outputs": [],
   "source": [
    "\n",
    "################################ Boolean ##################################\n",
    "\n",
    "# Due to some legacy issues from Python2 booleans can be treated as numbers, \n",
    "# True is 1 ; False is 0"
   ]
  },
  {
   "cell_type": "code",
   "execution_count": 12,
   "metadata": {},
   "outputs": [
    {
     "name": "stdout",
     "output_type": "stream",
     "text": [
      "2.0\n",
      "10\n",
      "10\n",
      "-10\n"
     ]
    }
   ],
   "source": [
    "################################ Numbers #################################\n",
    "\n",
    "# int + int = int\n",
    "# int + float = float\n",
    "\n",
    "# Convert int to float:\n",
    "print(float(2))\n",
    "\n",
    "# Convert float to int:\n",
    "print(int(10.9))\n",
    "print(int(10.1))\n",
    "print(int(-10.4))\n",
    "\n",
    "# int() is a truncate function, it will not round off nor a floor function"
   ]
  },
  {
   "cell_type": "code",
   "execution_count": 14,
   "metadata": {},
   "outputs": [],
   "source": [
    "# Python 2 had two types of integers datatype: int and long\n",
    "# max value of int was: sys.maxint = 2^32 - 1\n",
    "# Python 3 has just one integer type which behaves like long"
   ]
  },
  {
   "cell_type": "code",
   "execution_count": 24,
   "metadata": {},
   "outputs": [
    {
     "name": "stdout",
     "output_type": "stream",
     "text": [
      "5.5\n",
      "5\n",
      "-6\n",
      "1\n",
      "1\n",
      "3.6666666666666665\n",
      "3\n",
      "1331\n"
     ]
    }
   ],
   "source": [
    "# Common numerical operations:\n",
    "print(11 / 2)\n",
    "\n",
    "print(11 // 2)\n",
    "print(-11 // 2)\n",
    "\n",
    "print(11 % 2)\n",
    "print(-11 % 2)\n",
    "\n",
    "print(11 / 3)\n",
    "print(int(11 / 3))\n",
    "\n",
    "print(11 ** 3)"
   ]
  },
  {
   "cell_type": "code",
   "execution_count": 30,
   "metadata": {},
   "outputs": [
    {
     "name": "stdout",
     "output_type": "stream",
     "text": [
      "1/3\n",
      "2/3\n",
      "4/5\n"
     ]
    }
   ],
   "source": [
    "################################ Fractions #################################\n",
    "\n",
    "from fractions import Fraction\n",
    "x = Fraction(1, 3)\n",
    "print(x)\n",
    "print(x * 2)\n",
    "\n",
    "y = Fraction(8, 10)\n",
    "print(y)"
   ]
  },
  {
   "cell_type": "code",
   "execution_count": 34,
   "metadata": {},
   "outputs": [
    {
     "name": "stdout",
     "output_type": "stream",
     "text": [
      "3.141592653589793\n",
      "1.0\n",
      "Hello!\n"
     ]
    }
   ],
   "source": [
    "import math\n",
    "print(math.pi)\n",
    "print(math.sin(math.pi / 2))\n",
    "# print(math.sin(Fraction(math.pi, 2)))       --> Raises error\n",
    "\n",
    "if Fraction(10, 67):\n",
    "    print(\"Hello!\")\n",
    "\n",
    "if Fraction(0, 67):\n",
    "    print(\"This will never print ^^\")"
   ]
  },
  {
   "cell_type": "code",
   "execution_count": 43,
   "metadata": {},
   "outputs": [
    {
     "name": "stdout",
     "output_type": "stream",
     "text": [
      "some string\n",
      "['simply', 'amazing']\n",
      "[100, 94.601, 'again string']\n",
      "[94.601, 'again string', True, ['simply', 'amazing']]\n",
      "['some string', 100, 94.601]\n",
      "['some string', 100, 94.601, 'again string', True, ['simply', 'amazing']]\n"
     ]
    }
   ],
   "source": [
    "############################### Lists #################################\n",
    "a_list = [\"some string\", 100, 94.601, \"again string\", True, [\"simply\", \"amazing\"]]\n",
    "print(a_list[0])\n",
    "print(a_list[-1])\n",
    "\n",
    "####### Slicing a List #######\n",
    "print(a_list[1:4])\n",
    "print(a_list[2:])\n",
    "print(a_list[:3])\n",
    "print(a_list[:])\n",
    "# print(a_list[1, -1])           --> Error"
   ]
  },
  {
   "cell_type": "code",
   "execution_count": 56,
   "metadata": {},
   "outputs": [
    {
     "name": "stdout",
     "output_type": "stream",
     "text": [
      "['a', 1.03, 34]\n",
      "['a', 1.03, 34, True]\n",
      "['a', 1.03, 34, True, 'some', 'more']\n",
      "['a', 'Stop this!', 1.03, 34, True, 'some', 'more']\n"
     ]
    }
   ],
   "source": [
    "########## Adding new elements ##########\n",
    "a_list = ['a']\n",
    "a_list += [1.03, 34]                     # 1\n",
    "print(a_list)\n",
    "\n",
    "a_list.append(True)                      # 2\n",
    "print(a_list)\n",
    "\n",
    "a_list.extend([\"some\", \"more\"])          # 3\n",
    "# a_list.extend(1)                                        --> Throws error, it takes a single argument which is always a list\n",
    "print(a_list)\n",
    "\n",
    "a_list.insert(1, 'Stop this!')           # 4\n",
    "print(a_list)"
   ]
  },
  {
   "cell_type": "code",
   "execution_count": 57,
   "metadata": {},
   "outputs": [
    {
     "name": "stdout",
     "output_type": "stream",
     "text": [
      "[1, 2, 3, 4, 5, 6]\n",
      "[1, 2, 3, 4, 5, 6, [7, 8, 9]]\n",
      "[7, 8, 9]\n"
     ]
    }
   ],
   "source": [
    "# Difference between append and extend:\n",
    "a_list = [1,2,3]\n",
    "a_list.extend([4,5,6])\n",
    "print(a_list)\n",
    "\n",
    "a_list.append([7,8,9])\n",
    "print(a_list)\n",
    "print(a_list[-1])"
   ]
  },
  {
   "cell_type": "code",
   "execution_count": 63,
   "metadata": {},
   "outputs": [
    {
     "name": "stdout",
     "output_type": "stream",
     "text": [
      "2\n",
      "True\n",
      "3\n",
      "1\n"
     ]
    }
   ],
   "source": [
    "# Searching for values in a list\n",
    "a_list = ['a', 'new', 'b', 'c', 'new', 120]\n",
    "\n",
    "print(a_list.count('new'))\n",
    "\n",
    "print('b' in a_list)\n",
    "\n",
    "print(a_list.index('c'))\n",
    "print(a_list.index('new'))                          # Gives index at first occurence"
   ]
  },
  {
   "cell_type": "code",
   "execution_count": 69,
   "metadata": {},
   "outputs": [
    {
     "name": "stdout",
     "output_type": "stream",
     "text": [
      "b\n",
      "c\n",
      "['a', 'new', 'c', 'new']\n",
      "['a', 'c', 'new']\n",
      "Element removed:  new\n",
      "['a', 'c']\n",
      "Element removed:  c\n",
      "['a']\n"
     ]
    }
   ],
   "source": [
    "# Removing items from a list\n",
    "a_list = ['a', 'new', 'b', 'c', 'new', 120]\n",
    "\n",
    "print(a_list[2])\n",
    "del a_list[2]                                            # 1                 \n",
    "print(a_list[2])\n",
    "\n",
    "a_list.remove(120)                                       # 2\n",
    "print(a_list)\n",
    "\n",
    "a_list.remove('new')                            # Removes first occurence\n",
    "print(a_list)\n",
    "\n",
    "print(\"Element removed: \", a_list.pop())                 # 3\n",
    "print(a_list)                                   # pop removes element and returns it, if no index passed removes last element\n",
    "\n",
    "print(\"Element removed: \", a_list.pop(1))\n",
    "print(a_list)"
   ]
  },
  {
   "cell_type": "code",
   "execution_count": 71,
   "metadata": {},
   "outputs": [
    {
     "name": "stdout",
     "output_type": "stream",
     "text": [
      "[3]\n"
     ]
    }
   ],
   "source": [
    "# In Boolean context, empty string in False\n",
    "a = []\n",
    "if a:\n",
    "    print(\"This will never print\")\n",
    "\n",
    "a += [3]\n",
    "if a:\n",
    "    print(a)"
   ]
  },
  {
   "cell_type": "code",
   "execution_count": 77,
   "metadata": {},
   "outputs": [
    {
     "name": "stdout",
     "output_type": "stream",
     "text": [
      "('a', 'new', 'b', 'c', 'new', 120)\n",
      "b\n",
      "120\n",
      "('a', 'new', 'b', 'c', 'new')\n",
      "('b', 'c', 'new', 120)\n",
      "1\n",
      "Hmm interesting\n"
     ]
    }
   ],
   "source": [
    "############################### Tuple #################################\n",
    "\n",
    "# Tuple is an immutable list. It cannot be changed once created\n",
    "# No insert, pop, remove methods\n",
    "######### Slicing possible ########\n",
    "a_tuple = ('a', 'new', 'b', 'c', 'new', 120)\n",
    "print(a_tuple)\n",
    "print(a_tuple[2])\n",
    "print(a_tuple[-1])\n",
    "print(a_tuple[:-1])\n",
    "print(a_tuple[2:])\n",
    "\n",
    "######### Index of element ########\n",
    "print(a_tuple.index('new'))\n",
    "if 'c' in a_tuple:\n",
    "    print(\"Hmm interesting\")"
   ]
  },
  {
   "cell_type": "code",
   "execution_count": 80,
   "metadata": {},
   "outputs": [
    {
     "name": "stdout",
     "output_type": "stream",
     "text": [
      "1 10 100\n",
      "2\n"
     ]
    }
   ],
   "source": [
    "# Tuple used for assigning multiple values at once\n",
    "v = (1, 10, 100)\n",
    "(x, y, z) = v\n",
    "print(x, y, z)\n",
    "\n",
    "(MONDAY, TUESDAY, WEDNESDAY, THURSDAY, FRIDAY, SATURDAY, SUNDAY) = range(7)\n",
    "print(WEDNESDAY)"
   ]
  },
  {
   "cell_type": "code",
   "execution_count": 84,
   "metadata": {},
   "outputs": [
    {
     "name": "stdout",
     "output_type": "stream",
     "text": [
      "{1, 2, 3, 4}\n",
      "{'a', 'b', 120, 'c', 'new'}\n"
     ]
    }
   ],
   "source": [
    "############################### Sets #################################\n",
    "# Set is unordered 'bag' of unique values\n",
    "\n",
    "a_set = {1, 2, 3, 4}\n",
    "print(a_set)\n",
    "\n",
    "a_list = ['a', 'new', 'b', 'c', 'new', 120]\n",
    "a_set = set(a_list)\n",
    "print(a_set)"
   ]
  },
  {
   "cell_type": "code",
   "execution_count": 87,
   "metadata": {},
   "outputs": [
    {
     "name": "stdout",
     "output_type": "stream",
     "text": [
      "<class 'set'>\n",
      "0\n",
      "set()\n",
      "<class 'dict'>\n"
     ]
    }
   ],
   "source": [
    "# To create an empty set:\n",
    "a_set = set()\n",
    "print(type(a_set))\n",
    "print(len(a_set))\n",
    "print(a_set)\n",
    "\n",
    "# This will create an empty dictionary!!\n",
    "a_set = {}\n",
    "print(type(a_set))"
   ]
  },
  {
   "cell_type": "code",
   "execution_count": 99,
   "metadata": {},
   "outputs": [
    {
     "name": "stdout",
     "output_type": "stream",
     "text": [
      "{1, 2, 4}\n",
      "{1, 2, 4}\n",
      "{1, 2, 4, 5, 6}\n",
      "{1, 2, 4, 5, 6, 7, 8, 9, 10, 11, 12, 13}\n",
      "{1, 2, 4, 5, 6, 7, 8, 9, 10, 11, 12, 13, 20, 30}\n"
     ]
    }
   ],
   "source": [
    "########### Adding elements to set ##########\n",
    "\n",
    "a_set = {1,2}\n",
    "a_set.add(4)\n",
    "print(a_set)\n",
    "\n",
    "a_set.add(1)\n",
    "print(a_set)\n",
    "\n",
    "a_set.update({4,5,6})\n",
    "print(a_set)\n",
    "\n",
    "a_set.update({7,8,9}, {9,10,11,12,13})\n",
    "print(a_set)\n",
    "\n",
    "a_set.update([10,20,30])\n",
    "print(a_set)"
   ]
  },
  {
   "cell_type": "code",
   "execution_count": 100,
   "metadata": {},
   "outputs": [
    {
     "name": "stdout",
     "output_type": "stream",
     "text": [
      "{1, 2, 4, 5, 6, 8, 9, 10, 11, 12, 13, 20, 30}\n",
      "{1, 2, 4, 6, 8, 9, 10, 11, 12, 13, 20, 30}\n"
     ]
    }
   ],
   "source": [
    "########### Removing elements from set ##########\n",
    "a_set.discard(7)               # 1                        # Takes single argument\n",
    "print(a_set)\n",
    "\n",
    "# If element not present in set and discard called, it gives no error\n",
    "a_set.discard(100)          \n",
    "\n",
    "a_set.remove(5)                # 2\n",
    "print(a_set)\n",
    "\n",
    "# a_set.remove(100)              ---> Gives error as element is not present in set"
   ]
  },
  {
   "cell_type": "code",
   "execution_count": 102,
   "metadata": {},
   "outputs": [
    {
     "name": "stdout",
     "output_type": "stream",
     "text": [
      "4\n",
      "6\n",
      "set()\n"
     ]
    }
   ],
   "source": [
    "# pop() method removes a single value from a set and returns the value. \n",
    "# However, since sets are unordered, there is no “last” value in a set,\n",
    "# so there is no way to control which value gets removed. It is completely arbitrary.\n",
    "\n",
    "print(a_set.pop())\n",
    "print(a_set.pop())\n",
    "\n",
    "# clear() method removes all values from a set, leaving you with an empty set.\n",
    "a_set.clear()\n",
    "print(a_set)"
   ]
  },
  {
   "cell_type": "code",
   "execution_count": 103,
   "metadata": {},
   "outputs": [
    {
     "name": "stdout",
     "output_type": "stream",
     "text": [
      "True\n",
      "{1, 2, 195, 4, 5, 3, 6, 8, 9, 12, 76, 15, 17, 18, 21, 30, 51, 127}\n",
      "{2, 5, 9, 12, 21}\n",
      "{195, 4, 76, 51, 30, 127}\n",
      "{1, 3, 195, 6, 4, 8, 76, 15, 17, 18, 51, 30, 127}\n"
     ]
    }
   ],
   "source": [
    "a_set = {2, 4, 5, 9, 12, 21, 30, 51, 76, 127, 195}\n",
    "print(51 in a_set)\n",
    "b_set = {1, 2, 3, 5, 6, 8, 9, 12, 15, 17, 18, 21}\n",
    "\n",
    "print(a_set.union(b_set))\n",
    "print(a_set.intersection(b_set))\n",
    "# difference() method returns a new set containing all the elements that are in a_set but not b_set\n",
    "print(a_set.difference(b_set))\n",
    "# symmetric_difference() method returns a new set containing all the elements that are in exactly one of the sets.\n",
    "print(a_set.symmetric_difference(b_set))"
   ]
  },
  {
   "cell_type": "code",
   "execution_count": 108,
   "metadata": {},
   "outputs": [
    {
     "name": "stdout",
     "output_type": "stream",
     "text": [
      "True\n",
      "True\n"
     ]
    }
   ],
   "source": [
    "a_set = {1, 2, 3}\n",
    "b_set = {1, 2, 3, 4}\n",
    "\n",
    "print(a_set.issubset(b_set))\n",
    "print(b_set.issuperset(a_set))"
   ]
  },
  {
   "cell_type": "code",
   "execution_count": 109,
   "metadata": {},
   "outputs": [
    {
     "name": "stdout",
     "output_type": "stream",
     "text": [
      "{'key1': 'val1', 'key2': 'val2'}\n",
      "val1\n"
     ]
    }
   ],
   "source": [
    "##################################### Dictionaries ##################################\n",
    "# A dictionary is an unordered set of key-value pairs.\n",
    "\n",
    "a_dict = {'key1': 'val1', 'key2': 'val2'}\n",
    "print(a_dict)\n",
    "print(a_dict['key1'])"
   ]
  },
  {
   "cell_type": "code",
   "execution_count": 110,
   "metadata": {},
   "outputs": [
    {
     "name": "stdout",
     "output_type": "stream",
     "text": [
      "{'key1': 'val1', 'key2': 'new value'}\n",
      "{'key1': 'val1', 'key2': 'new value', 'key3': 'val3'}\n"
     ]
    }
   ],
   "source": [
    "a_dict['key2'] = 'new value'\n",
    "print(a_dict)\n",
    "a_dict['key3'] = 'val3'\n",
    "print(a_dict)"
   ]
  },
  {
   "cell_type": "code",
   "execution_count": 111,
   "metadata": {},
   "outputs": [],
   "source": [
    "empty_dict = {}"
   ]
  },
  {
   "cell_type": "code",
   "execution_count": null,
   "metadata": {},
   "outputs": [],
   "source": [
    "# In Boolean context, None is False\n",
    "#                     not None is True"
   ]
  }
 ],
 "metadata": {
  "language_info": {
   "name": "python"
  }
 },
 "nbformat": 4,
 "nbformat_minor": 2
}
