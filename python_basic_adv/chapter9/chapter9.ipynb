{
 "cells": [
  {
   "cell_type": "code",
   "execution_count": 1,
   "metadata": {},
   "outputs": [],
   "source": [
    "############################## Unit Testing ################################\n",
    "\n",
    "# Each test method should start with the prefix test_. The unittest framework will automatically discover and run these methods.\n",
    "# unittest.main() --> To run the testcases"
   ]
  },
  {
   "cell_type": "code",
   "execution_count": null,
   "metadata": {},
   "outputs": [],
   "source": [
    "import unittest\n",
    "\n",
    "class TestAddFunction(unittest.TestCase):\n",
    "    def test_add_positive_numbers(self):\n",
    "        result = add(2, 3)\n",
    "        self.assertEqual(result, 5)\n",
    "\n",
    "    def test_add_negative_numers(self):\n",
    "        result = add(-5, -10)\n",
    "        self.assertEqual(result, -15)\n",
    "\n",
    "    def test_add_zero(self):\n",
    "        result = add(0, 7)\n",
    "        self.assertEqual(result, 7)\n",
    "\n",
    "def add(a, b):\n",
    "    return a + b\n",
    "\n",
    "if __name__ == '__main__':\n",
    "    unittest.main()"
   ]
  },
  {
   "cell_type": "code",
   "execution_count": null,
   "metadata": {},
   "outputs": [],
   "source": []
  },
  {
   "cell_type": "code",
   "execution_count": null,
   "metadata": {},
   "outputs": [],
   "source": []
  }
 ],
 "metadata": {
  "language_info": {
   "name": "python"
  }
 },
 "nbformat": 4,
 "nbformat_minor": 2
}
