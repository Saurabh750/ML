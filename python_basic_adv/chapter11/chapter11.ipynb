{
 "cells": [
  {
   "cell_type": "code",
   "execution_count": 6,
   "metadata": {},
   "outputs": [],
   "source": [
    "##################### Files #####################\n",
    "\n",
    "# Open a file before reading it\n",
    "\n",
    "a_file = open('../../algo_from_scratch/TSNE/README.md', encoding='utf-8')"
   ]
  },
  {
   "cell_type": "code",
   "execution_count": 8,
   "metadata": {},
   "outputs": [
    {
     "data": {
      "text/plain": [
       "'cp1252'"
      ]
     },
     "execution_count": 8,
     "metadata": {},
     "output_type": "execute_result"
    }
   ],
   "source": [
    "# Bytes are bytes; characters are an abstraction. A string is a sequence of Unicode characters.\n",
    "# File on disk is not a sequence of Unicode characters; a File on disk is a sequence of bytes.\n",
    "\n",
    "# Python decodes the bytes according to a specific character encoding algorithm and \n",
    "# returns a sequence of Unicode characters (otherwise known as a string).\n",
    "\n",
    "# Python uses CP-1252 as the default encoding. CP-1252 is a common encoding on computers running Microsoft Windows.\n",
    "# Default encoding is platform-dependent, so it may work for me but won't work for someone else.\n",
    "\n",
    "##### To get default character encoding on your system:\n",
    "import locale\n",
    "locale.getpreferredencoding()"
   ]
  },
  {
   "cell_type": "code",
   "execution_count": 10,
   "metadata": {},
   "outputs": [
    {
     "name": "stdout",
     "output_type": "stream",
     "text": [
      "r\n",
      "../../algo_from_scratch/TSNE/README.md\n",
      "utf-8\n"
     ]
    }
   ],
   "source": [
    "a_file = open('../../algo_from_scratch/TSNE/README.md', encoding='utf-8')\n",
    "print(a_file.mode)\n",
    "print(a_file.name)\n",
    "print(a_file.encoding)"
   ]
  },
  {
   "cell_type": "code",
   "execution_count": 11,
   "metadata": {},
   "outputs": [
    {
     "data": {
      "text/plain": [
       "'I have implemented TSNE Algorithm from scratch in this folder.\\n\\nTSNE is a non-linear dimensionality reduction algorithm. \\nIt is a powerful algorithm for visualization when you are working with non-linear data.\\n\\nI referred the following articles/papers for in depth understanding of the algorithm:\\n1) https://www.jmlr.org/papers/volume9/vandermaaten08a/vandermaaten08a.pdf\\n2) https://towardsdatascience.com/t-sne-clearly-explained-d84c537f53a\\n\\n'"
      ]
     },
     "execution_count": 11,
     "metadata": {},
     "output_type": "execute_result"
    }
   ],
   "source": [
    "a_file.read()"
   ]
  },
  {
   "cell_type": "code",
   "execution_count": 12,
   "metadata": {},
   "outputs": [
    {
     "data": {
      "text/plain": [
       "''"
      ]
     },
     "execution_count": 12,
     "metadata": {},
     "output_type": "execute_result"
    }
   ],
   "source": [
    "# Reading again just returns empty string, Python doesn't return any Exception\n",
    "a_file.read()"
   ]
  },
  {
   "cell_type": "code",
   "execution_count": 13,
   "metadata": {},
   "outputs": [
    {
     "data": {
      "text/plain": [
       "0"
      ]
     },
     "execution_count": 13,
     "metadata": {},
     "output_type": "execute_result"
    }
   ],
   "source": [
    "####### How to re-read a file? #######\n",
    "\n",
    "# seek() method moves to a specific byte position in a file.\n",
    "a_file.seek(0)"
   ]
  },
  {
   "cell_type": "code",
   "execution_count": 14,
   "metadata": {},
   "outputs": [
    {
     "data": {
      "text/plain": [
       "'I have implemented TSNE Algorithm from scratch in this folder.\\n\\nTSNE is a non-linear dimensionality reduction algorithm. \\nIt is a powerful algorithm for visualization when you are working with non-linear data.\\n\\nI referred the following articles/papers for in depth understanding of the algorithm:\\n1) https://www.jmlr.org/papers/volume9/vandermaaten08a/vandermaaten08a.pdf\\n2) https://towardsdatascience.com/t-sne-clearly-explained-d84c537f53a\\n\\n'"
      ]
     },
     "execution_count": 14,
     "metadata": {},
     "output_type": "execute_result"
    }
   ],
   "source": [
    "a_file.read()"
   ]
  },
  {
   "cell_type": "code",
   "execution_count": 15,
   "metadata": {},
   "outputs": [
    {
     "data": {
      "text/plain": [
       "'SNE Algorithm from scratch in this folder.\\n\\nTSNE is a non-linear dimensionality reduction algorithm. \\nIt is a powerful algorithm for visualization when you are working with non-linear data.\\n\\nI referred the following articles/papers for in depth understanding of the algorithm:\\n1) https://www.jmlr.org/papers/volume9/vandermaaten08a/vandermaaten08a.pdf\\n2) https://towardsdatascience.com/t-sne-clearly-explained-d84c537f53a\\n\\n'"
      ]
     },
     "execution_count": 15,
     "metadata": {},
     "output_type": "execute_result"
    }
   ],
   "source": [
    "a_file.seek(20)\n",
    "a_file.read()"
   ]
  },
  {
   "cell_type": "code",
   "execution_count": 17,
   "metadata": {},
   "outputs": [
    {
     "name": "stdout",
     "output_type": "stream",
     "text": [
      "S\n",
      "N\n",
      "E A\n"
     ]
    }
   ],
   "source": [
    "# If you want you can read 1 character at a time\n",
    "a_file.seek(20)\n",
    "print(a_file.read(1))\n",
    "print(a_file.read(1))\n",
    "print(a_file.read(3))"
   ]
  },
  {
   "cell_type": "code",
   "execution_count": 18,
   "metadata": {},
   "outputs": [
    {
     "name": "stdout",
     "output_type": "stream",
     "text": [
      "Now you are at the following byte: 25\n"
     ]
    }
   ],
   "source": [
    "print(\"Now you are at the following byte: {}\".format(a_file.tell()))"
   ]
  },
  {
   "cell_type": "code",
   "execution_count": 20,
   "metadata": {},
   "outputs": [],
   "source": [
    "# seek() and tell() methods always count bytes, but since you opened this file as text, the read() method counts characters.\n",
    "\n",
    "# English characters in the file only require one byte each.\n",
    "# Chinese characters require multiple bytes in UTF-8\n",
    "\n",
    "# a_file.seek(30)\n",
    "# a_file.read(1)\n",
    "# This might fail, if there is a Chinese character which begins at 29 and it takes 2 or 3 bytes to store the character."
   ]
  },
  {
   "cell_type": "code",
   "execution_count": 21,
   "metadata": {},
   "outputs": [],
   "source": [
    "# Open files consume system resources, and depending on the file mode, other programs may not be able to access them.\n",
    "a_file.close()"
   ]
  },
  {
   "cell_type": "code",
   "execution_count": 22,
   "metadata": {},
   "outputs": [
    {
     "name": "stdout",
     "output_type": "stream",
     "text": [
      "d\n"
     ]
    }
   ],
   "source": [
    "# Solution for the problem we will face when server crashes due to a bug and file is still open.\n",
    "# Solution 1: Use try... finally block\n",
    "# Solution 2:\n",
    "with open('../../algo_from_scratch/TSNE/README.md', encoding='utf-8') as a_file:\n",
    "    a_file.seek(17)\n",
    "    a_character = a_file.read(1)\n",
    "    print(a_character)\n",
    "\n",
    "# At the end of with block, a_file.close() will be called automatically! \n",
    "# Python will close that file… even if you “exit” it via an unhandled exception\n",
    "# This prevents from the file being kept open.\n",
    "\n",
    "# with statement: just a generic framework for creating runtime contexts and telling objects \n",
    "#                 that they’re entering and exiting a runtime context."
   ]
  },
  {
   "cell_type": "code",
   "execution_count": 27,
   "metadata": {},
   "outputs": [
    {
     "name": "stdout",
     "output_type": "stream",
     "text": [
      "   1  I have implemented TSNE Algorithm from scratch in this folder.\n",
      "   2  \n",
      "   3  TSNE is a non-linear dimensionality reduction algorithm.\n",
      "   4  It is a powerful algorithm for visualization when you are working with non-linear data.\n",
      "   5  \n",
      "   6  I referred the following articles/papers for in depth understanding of the algorithm:\n",
      "   7  1) https://www.jmlr.org/papers/volume9/vandermaaten08a/vandermaaten08a.pdf\n",
      "   8  2) https://towardsdatascience.com/t-sne-clearly-explained-d84c537f53a\n",
      "   9  \n"
     ]
    }
   ],
   "source": [
    "line_number = 0\n",
    "with open('../../algo_from_scratch/TSNE/README.md', encoding='utf-8') as a_file:\n",
    "    for a_line in a_file:\n",
    "        line_number += 1\n",
    "        print('{:>4}  {}'.format(line_number, a_line.rstrip()))\n",
    "        # rstrip() string method removes the trailing whitespace, including the carriage return characters."
   ]
  },
  {
   "cell_type": "code",
   "execution_count": 29,
   "metadata": {},
   "outputs": [],
   "source": [
    "# To open a file for writing, use the open() function and specify the write mode. \n",
    "# There are two file modes for writing:\n",
    "# 1) “Write” mode will overwrite the file. Pass mode='w'\n",
    "# 2) “Append” mode will add data to the end of the file. Pass mode='a'\n",
    "\n",
    "# Either mode will create the file automatically if it doesn’t already exist"
   ]
  },
  {
   "cell_type": "code",
   "execution_count": 30,
   "metadata": {},
   "outputs": [],
   "source": [
    "with open('../../algo_from_scratch/TSNE/README.md', mode='a', encoding='utf-8') as a_file:\n",
    "    a_file.write(\" I have added this content programmetically from this file: python_basic_dev/chapter10/chapter10.ipynb\")"
   ]
  },
  {
   "cell_type": "code",
   "execution_count": 31,
   "metadata": {},
   "outputs": [],
   "source": [
    "##################### Binary Files #######################\n",
    "\n",
    "# an_image = open('examples/beauregard.jpg', mode='rb')\n",
    "# Binary files have no encoding attribute, as there is no need for conversion since it already exists in binary format\n",
    "# Mode will be: rb, wb, ab"
   ]
  },
  {
   "cell_type": "code",
   "execution_count": 32,
   "metadata": {},
   "outputs": [
    {
     "data": {
      "text/plain": [
       "'PapayaWhip is the new black.'"
      ]
     },
     "execution_count": 32,
     "metadata": {},
     "output_type": "execute_result"
    }
   ],
   "source": [
    "# io module defines the StringIO class that you can use to treat a string in memory as a file\n",
    "\n",
    "import io\n",
    "\n",
    "s = \"PapayaWhip is the new black.\"\n",
    "a_file = io.StringIO(s)\n",
    "a_file.read()"
   ]
  },
  {
   "cell_type": "code",
   "execution_count": 33,
   "metadata": {},
   "outputs": [
    {
     "data": {
      "text/plain": [
       "'PapayaWhip'"
      ]
     },
     "execution_count": 33,
     "metadata": {},
     "output_type": "execute_result"
    }
   ],
   "source": [
    "a_file.tell()\n",
    "a_file.seek(0)\n",
    "a_file.read(10)"
   ]
  },
  {
   "cell_type": "code",
   "execution_count": null,
   "metadata": {},
   "outputs": [],
   "source": [
    "################### Handling Compressed Files ####################\n",
    "\n",
    "import gzip\n",
    "\n",
    "# Always open gzip files in binary mode!\n",
    "with gzip.open('out.log.gz', mode='wb') as z_file:\n",
    "    z_file.write('A nine mile walk is no joke, especially in the rain.'.encode('utf-8'))\n",
    "\n",
    "# There are libraries for GNU tar, PKZIP file structures too!"
   ]
  },
  {
   "cell_type": "code",
   "execution_count": 34,
   "metadata": {},
   "outputs": [
    {
     "name": "stdout",
     "output_type": "stream",
     "text": [
      "PapayaWhip\n",
      "PapayaWhip\n",
      "PapayaWhip\n",
      "PapayaWhipPapayaWhipPapayaWhip"
     ]
    }
   ],
   "source": [
    "# Standard Input, Output, and Error\n",
    "\n",
    "# When print() is called, whatever you are printing is sent to stdout\n",
    "# When program crashes and prints a traceback, it goes to sterr\n",
    "\n",
    "for i in range(3):\n",
    "    print('PapayaWhip')\n",
    "\n",
    "import sys\n",
    "for i in range(3):\n",
    "    sys.stdout.write(\"PapayaWhip\")"
   ]
  },
  {
   "cell_type": "code",
   "execution_count": 35,
   "metadata": {},
   "outputs": [],
   "source": [
    "# sys.stdout and sys.stderr are stream objects, that only support writing. read() doesn't work for them!\n",
    "\n"
   ]
  },
  {
   "cell_type": "code",
   "execution_count": null,
   "metadata": {},
   "outputs": [],
   "source": []
  }
 ],
 "metadata": {
  "language_info": {
   "name": "python"
  }
 },
 "nbformat": 4,
 "nbformat_minor": 2
}
