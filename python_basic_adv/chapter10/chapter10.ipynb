{
 "cells": [
  {
   "cell_type": "code",
   "execution_count": null,
   "metadata": {},
   "outputs": [],
   "source": [
    "########################### Refactoring ###############################\n",
    "\n",
    "# A bug is a test case you haven’t written yet.\n",
    "\n",
    "import unittest\n",
    "\n",
    "# Before!!\n",
    "# def div(a, b):\n",
    "#     return a/b\n",
    "\n",
    "class writeSomeTestCases(unittest.TestCase):\n",
    "    def test_cannot_divide_by_zero(self):\n",
    "        with self.assertRaises(ZeroDivisionError) as context:\n",
    "            div(10, 0)\n",
    "        self.assertEqual(str(context.exception), \"Cannot divide by zero.\")\n",
    "\n",
    "# After!! \n",
    "def div(a, b):\n",
    "    if b == 0:\n",
    "        raise ZeroDivisionError('')"
   ]
  }
 ],
 "metadata": {
  "language_info": {
   "name": "python"
  }
 },
 "nbformat": 4,
 "nbformat_minor": 2
}
