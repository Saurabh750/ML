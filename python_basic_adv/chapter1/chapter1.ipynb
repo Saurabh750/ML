{
 "cells": [
  {
   "cell_type": "code",
   "execution_count": 12,
   "metadata": {},
   "outputs": [
    {
     "name": "stdout",
     "output_type": "stream",
     "text": [
      "pos is: test1 and key is: True\n",
      "pos is: test2 and key is: False\n",
      "pos is: test3 and key is: True\n",
      "pos is: test4 and key is: True\n",
      " The below information about the function written in triple quotes is docstring\n",
      "    Prints pos and key arguments that are passed by user\n",
      "\n",
      "    Input: \n",
      "    pos: Denotes a positional argument\n",
      "    key: Denotes a keyword argument\n",
      "\n",
      "    \n"
     ]
    }
   ],
   "source": [
    "def func(pos, key = True):\n",
    "    ''' The below information about the function written in triple quotes is docstring\n",
    "    Prints pos and key arguments that are passed by user\n",
    "\n",
    "    Input: \n",
    "    pos: Denotes a positional argument\n",
    "    key: Denotes a keyword argument\n",
    "\n",
    "    '''\n",
    "    print(\"pos is: {0} and key is: {1}\".format(pos, key))\n",
    "\n",
    "if __name__ == '__main__':\n",
    "    func(\"test1\")\n",
    "    func(pos = \"test2\", key = \"False\")\n",
    "    func(key = \"True\", pos = \"test3\")\n",
    "    func(pos = 'test4')\n",
    "    # func(pos = 'test5', False)       --> Throws error\n",
    "    # func(key = False, \"test6\")       --> Throws error\n",
    "\n",
    "    print(func.__doc__)                #-> __doc__ gives docstring of a function, inbuilt attribute for each function\n",
    "\n",
    "    ##############################################################\n",
    "    # Simple thumb rule to remember: \n",
    "    # As soon as you have a named argument, all arguments to the right of that need to be named arguments"
   ]
  },
  {
   "cell_type": "code",
   "execution_count": 10,
   "metadata": {},
   "outputs": [
    {
     "data": {
      "text/plain": [
       "['d:\\\\Machine_Learning\\\\ML\\\\python_basic_adv\\\\chapter1',\n",
       " 'c:\\\\Users\\\\91702\\\\AppData\\\\Local\\\\Programs\\\\Python\\\\Python310\\\\python310.zip',\n",
       " 'c:\\\\Users\\\\91702\\\\AppData\\\\Local\\\\Programs\\\\Python\\\\Python310\\\\DLLs',\n",
       " 'c:\\\\Users\\\\91702\\\\AppData\\\\Local\\\\Programs\\\\Python\\\\Python310\\\\lib',\n",
       " 'c:\\\\Users\\\\91702\\\\AppData\\\\Local\\\\Programs\\\\Python\\\\Python310',\n",
       " '',\n",
       " 'C:\\\\Users\\\\91702\\\\AppData\\\\Roaming\\\\Python\\\\Python310\\\\site-packages',\n",
       " 'C:\\\\Users\\\\91702\\\\AppData\\\\Roaming\\\\Python\\\\Python310\\\\site-packages\\\\win32',\n",
       " 'C:\\\\Users\\\\91702\\\\AppData\\\\Roaming\\\\Python\\\\Python310\\\\site-packages\\\\win32\\\\lib',\n",
       " 'C:\\\\Users\\\\91702\\\\AppData\\\\Roaming\\\\Python\\\\Python310\\\\site-packages\\\\Pythonwin',\n",
       " 'c:\\\\Users\\\\91702\\\\AppData\\\\Local\\\\Programs\\\\Python\\\\Python310\\\\lib\\\\site-packages']"
      ]
     },
     "execution_count": 10,
     "metadata": {},
     "output_type": "execute_result"
    }
   ],
   "source": [
    "import sys\n",
    "sys.path\n",
    "sys.path.insert(0, '<Your path name>') \n",
    "\n",
    "#################################################################\n",
    "# Python will look through these directories (in this order) for a .py file whose name matches what you’re trying to import.\n",
    "\n",
    "# By using sys.path.insert(0, new_path), you inserted a new directory as the first item of the sys.path list, \n",
    "# and therefore at the beginning of Python’s search path."
   ]
  },
  {
   "cell_type": "code",
   "execution_count": null,
   "metadata": {},
   "outputs": [],
   "source": [
    "# Everything in Python is object.\n",
    "# List, string, function, class, class instances, modules; everything is object."
   ]
  },
  {
   "cell_type": "code",
   "execution_count": 19,
   "metadata": {},
   "outputs": [
    {
     "name": "stdout",
     "output_type": "stream",
     "text": [
      "1024\n",
      "1024\n"
     ]
    }
   ],
   "source": [
    "# try-except block\n",
    "\n",
    "\n",
    "# unbound variables\n",
    "elem1 = 1024 if True else 1000\n",
    "print(elem1)\n",
    "\n",
    "if True:\n",
    "    elem2 = 1024\n",
    "else:\n",
    "    elem2 = 1000\n",
    "print(elem2)\n",
    "\n",
    "# for i in range(0,100):\n",
    "#     elem3 += i\n",
    "# print(elem3)                   --> Error!"
   ]
  },
  {
   "cell_type": "code",
   "execution_count": 24,
   "metadata": {},
   "outputs": [
    {
     "name": "stdout",
     "output_type": "stream",
     "text": [
      "sys\n"
     ]
    }
   ],
   "source": [
    "# All modules have a special attribute called __name__, \n",
    "# If you import the module, __name__ contains the module's filename without extension or directory path\n",
    "import sys\n",
    "sys.__name__\n",
    "\n",
    "# If module is run directly as a standalone file, __name__ will store a default value '__main__'\n",
    "# Thus we use: \n",
    "if __name__ == '__main__':\n",
    "    print(sys.__name__)"
   ]
  },
  {
   "cell_type": "code",
   "execution_count": null,
   "metadata": {},
   "outputs": [],
   "source": []
  }
 ],
 "metadata": {
  "language_info": {
   "name": "python"
  }
 },
 "nbformat": 4,
 "nbformat_minor": 2
}
