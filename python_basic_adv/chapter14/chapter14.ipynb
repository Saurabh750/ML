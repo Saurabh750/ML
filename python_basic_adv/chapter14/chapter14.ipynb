{
 "cells": [
  {
   "cell_type": "code",
   "execution_count": 1,
   "metadata": {},
   "outputs": [
    {
     "name": "stdout",
     "output_type": "stream",
     "text": [
      "b'<!DOCTYPE html><html><head><script>window.onload=function(){window.location.href=\"/lander\"}</script></head></html>'\n"
     ]
    }
   ],
   "source": [
    "import urllib.request\n",
    "\n",
    "a_url = 'http://diveintopython3.org/examples/feed.xml'\n",
    "data = urllib.request.urlopen(a_url).read()\n",
    "print(data)"
   ]
  },
  {
   "cell_type": "code",
   "execution_count": 10,
   "metadata": {},
   "outputs": [],
   "source": [
    "from http.client import HTTPConnection\n",
    "HTTPConnection.debuglevel = 1\n",
    "\n",
    "from urllib.request import urlopen\n",
    "response = urlopen('http://diveintopython3.org/examples/feed.xml')"
   ]
  },
  {
   "cell_type": "code",
   "execution_count": 11,
   "metadata": {},
   "outputs": [
    {
     "name": "stdout",
     "output_type": "stream",
     "text": [
      "content-type: text/html\n",
      "date: Mon, 24 Feb 2025 13:18:34 GMT\n",
      "content-length: 114\n",
      "connection: close\n",
      "\n",
      "\n"
     ]
    }
   ],
   "source": [
    "print(response.headers.as_string())"
   ]
  },
  {
   "cell_type": "code",
   "execution_count": 12,
   "metadata": {},
   "outputs": [
    {
     "data": {
      "text/plain": [
       "b'<!DOCTYPE html><html><head><script>window.onload=function(){window.location.href=\"/lander\"}</script></head></html>'"
      ]
     },
     "execution_count": 12,
     "metadata": {},
     "output_type": "execute_result"
    }
   ],
   "source": [
    "response.read()"
   ]
  },
  {
   "cell_type": "code",
   "execution_count": 13,
   "metadata": {},
   "outputs": [],
   "source": [
    "# httplib2 module is better than urllib and http modules. urllib is a wrapper around http module itself.\n",
    "\n",
    "import httplib2\n",
    "\n",
    "h = httplib2.Http('.cache')"
   ]
  },
  {
   "cell_type": "code",
   "execution_count": 14,
   "metadata": {},
   "outputs": [],
   "source": [
    "response, content = h.request('http://diveintopython3.org/examples/feed.xml')"
   ]
  },
  {
   "cell_type": "code",
   "execution_count": 15,
   "metadata": {},
   "outputs": [
    {
     "data": {
      "text/plain": [
       "200"
      ]
     },
     "execution_count": 15,
     "metadata": {},
     "output_type": "execute_result"
    }
   ],
   "source": [
    "response.status"
   ]
  },
  {
   "cell_type": "code",
   "execution_count": 16,
   "metadata": {},
   "outputs": [
    {
     "data": {
      "text/plain": [
       "b'<!DOCTYPE html><html><head><script>window.onload=fun'"
      ]
     },
     "execution_count": 16,
     "metadata": {},
     "output_type": "execute_result"
    }
   ],
   "source": [
    "content[:52]"
   ]
  },
  {
   "cell_type": "code",
   "execution_count": 17,
   "metadata": {},
   "outputs": [
    {
     "data": {
      "text/plain": [
       "'status=Test+update+from+Python+3'"
      ]
     },
     "execution_count": 17,
     "metadata": {},
     "output_type": "execute_result"
    }
   ],
   "source": [
    "# urllib.parse.urlencode(): utility function to URL-encode a dictionary\n",
    "\n",
    "from urllib.parse import urlencode\n",
    "\n",
    "data = {'status': 'Test update from Python 3'}\n",
    "urlencode(data)"
   ]
  },
  {
   "cell_type": "code",
   "execution_count": 18,
   "metadata": {},
   "outputs": [
    {
     "name": "stdout",
     "output_type": "stream",
     "text": [
      "connect: (identi.ca, 443)\n",
      "send: b'POST /api/statuses/update.xml HTTP/1.1\\r\\nHost: identi.ca\\r\\nContent-Length: 32\\r\\ncontent-type: application/x-www-form-urlencoded\\r\\nuser-agent: Python-httplib2/0.22.0 (gzip)\\r\\naccept-encoding: gzip, deflate\\r\\n\\r\\n'\n",
      "send: b'status=Test+update+from+Python+3'\n",
      "reply: 'HTTP/1.1 404 Not Found\\r\\n'\n",
      "header: X-Powered-By: Express\n",
      "header: Vary: X-HTTP-Method-Override, Accept-Encoding\n",
      "header: Server: pump.io/5.1.0 express/4.16.3 node.js/v4.2.6\n",
      "header: Content-Security-Policy: default-src 'self'\n",
      "header: X-Content-Security-Policy: connect-src 'self' wss://identi.ca; script-src 'self' 'unsafe-inline' 'unsafe-eval' cdnjs.cloudflare.com ajax.googleapis.com; style-src 'self' 'unsafe-inline' cdnjs.cloudflare.com maxcdn.bootstrapcdn.com; font-src 'self' cdnjs.cloudflare.com; img-src *; object-src 'none'; media-src *; child-src 'self' www.youtube.com; frame-ancestors 'none'\n",
      "header: X-WebKit-CSP: connect-src 'self' wss://identi.ca; script-src 'self' 'unsafe-inline' 'unsafe-eval' cdnjs.cloudflare.com ajax.googleapis.com; style-src 'self' 'unsafe-inline' cdnjs.cloudflare.com maxcdn.bootstrapcdn.com; font-src 'self' cdnjs.cloudflare.com; img-src *; object-src 'none'; media-src *; child-src 'self' www.youtube.com; frame-ancestors 'none'\n",
      "header: X-Frame-Options: DENY\n",
      "header: X-Download-Options: noopen\n",
      "header: X-Content-Type-Options: nosniff\n",
      "header: X-XSS-Protection: 1; mode=block\n",
      "header: Content-Type: text/html; charset=utf-8\n",
      "header: Content-Length: 163\n",
      "header: Date: Tue, 25 Feb 2025 05:19:10 GMT\n",
      "header: Connection: keep-alive\n"
     ]
    }
   ],
   "source": [
    "from urllib.parse import urlencode\n",
    "import httplib2\n",
    "\n",
    "httplib2.debuglevel = 1\n",
    "h = httplib2.Http('.cache')\n",
    "data = {'status': 'Test update from Python 3'}\n",
    "\n",
    "h.add_credentials('diveintomark', 'MY_SECRET_PASSWORD', 'identi.ca')\n",
    "resp, content = h.request('https://identi.ca/api/statuses/update.xml',\n",
    "                          'POST',\n",
    "                          urlencode(data),\n",
    "                          headers={'Content-Type': 'application/x-www-form-urlencoded'})"
   ]
  },
  {
   "cell_type": "code",
   "execution_count": 19,
   "metadata": {},
   "outputs": [
    {
     "name": "stdout",
     "output_type": "stream",
     "text": [
      "<!DOCTYPE html>\n",
      "<html lang=\"en\">\n",
      "<head>\n",
      "<meta charset=\"utf-8\">\n",
      "<title>Error</title>\n",
      "</head>\n",
      "<body>\n",
      "<pre>Cannot POST /api/statuses/update.xml</pre>\n",
      "</body>\n",
      "</html>\n",
      "\n"
     ]
    }
   ],
   "source": [
    "print(content.decode('utf-8'))"
   ]
  },
  {
   "cell_type": "code",
   "execution_count": null,
   "metadata": {},
   "outputs": [],
   "source": [
    "# Data returned by httplib2 is always bytes, not a string. \n",
    "# To convert it to a string, you need to decode it using the proper character encoding."
   ]
  }
 ],
 "metadata": {
  "language_info": {
   "name": "python"
  }
 },
 "nbformat": 4,
 "nbformat_minor": 2
}
