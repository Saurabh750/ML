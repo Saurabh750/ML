{
 "cells": [
  {
   "cell_type": "code",
   "execution_count": 1,
   "metadata": {},
   "outputs": [
    {
     "data": {
      "text/plain": [
       "{'title': 'Dive into history, 2009 edition',\n",
       " 'article_link': 'http://diveintomark.org/archives/2009/03/27/dive-into-history-2009-edition',\n",
       " 'comments_link': None,\n",
       " 'internal_id': b'\\xde\\xd5\\xb4\\xf8',\n",
       " 'tags': ('diveintopython', 'docbook', 'html'),\n",
       " 'published': True,\n",
       " 'published_date': time.struct_time(tm_year=2009, tm_mon=3, tm_mday=27, tm_hour=22, tm_min=20, tm_sec=42, tm_wday=4, tm_yday=86, tm_isdst=-1)}"
      ]
     },
     "execution_count": 1,
     "metadata": {},
     "output_type": "execute_result"
    }
   ],
   "source": [
    "shell = 2\n",
    "\n",
    "import pickle\n",
    "with open('entry.pickle', 'rb') as f:\n",
    "    entry = pickle.load(f)\n",
    "entry"
   ]
  },
  {
   "cell_type": "code",
   "execution_count": null,
   "metadata": {},
   "outputs": [],
   "source": []
  }
 ],
 "metadata": {
  "language_info": {
   "name": "python"
  }
 },
 "nbformat": 4,
 "nbformat_minor": 2
}
