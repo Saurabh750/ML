{
 "cells": [
  {
   "cell_type": "code",
   "execution_count": 1,
   "metadata": {},
   "outputs": [],
   "source": [
    "############################### Serializing Python Objects #######################################\n",
    "\n",
    "# 'pickle' module in Python can store:\n",
    "# All native datatypes (booleans, integers, floating point numbers, complex numbers, strings, bytes objects, byte arrays, and None.)\n",
    "# Lists, tuples, dictionaries, and sets containing any combination of native datatypes.\n",
    "# Functions, classes, and instances of classes"
   ]
  },
  {
   "cell_type": "code",
   "execution_count": 2,
   "metadata": {},
   "outputs": [
    {
     "data": {
      "text/plain": [
       "time.struct_time(tm_year=2009, tm_mon=3, tm_mday=27, tm_hour=22, tm_min=20, tm_sec=42, tm_wday=4, tm_yday=86, tm_isdst=-1)"
      ]
     },
     "execution_count": 2,
     "metadata": {},
     "output_type": "execute_result"
    }
   ],
   "source": [
    "# Saving data to a pickle file\n",
    "\n",
    "# pickle.dump() -> To save data in pickle file\n",
    "# pickle.load() -> To load data from pickle file\n",
    "\n",
    "shell = 1\n",
    "entry = {}\n",
    "entry['title'] = 'Dive into history, 2009 edition'\n",
    "entry['article_link'] = 'http://diveintomark.org/archives/2009/03/27/dive-into-history-2009-edition'\n",
    "entry['comments_link'] = None\n",
    "entry['internal_id'] = b'\\xDE\\xD5\\xB4\\xF8'\n",
    "entry['tags'] = ('diveintopython', 'docbook', 'html')\n",
    "entry['published'] = True\n",
    "import time\n",
    "entry['published_date'] = time.strptime('Fri Mar 27 22:20:42 2009')\n",
    "\n",
    "entry['published_date']"
   ]
  },
  {
   "cell_type": "code",
   "execution_count": 8,
   "metadata": {},
   "outputs": [],
   "source": [
    "shell = 1\n",
    "import pickle\n",
    "with open('entry.pickle', 'wb') as f:\n",
    "    pickle.dump(entry, f)"
   ]
  },
  {
   "cell_type": "code",
   "execution_count": 9,
   "metadata": {},
   "outputs": [],
   "source": [
    "# pickle module takes a Python data structure and saves it to a file.\n",
    "# it serializes the data structure using a data format called “the pickle protocol.”\n",
    "# pickle protocol is Python-specific. \n",
    "# Not every Python data structure can be serialized by the pickle module.\n",
    "# No guarantee of compatibility between different versions of Python itself. \n",
    "# Newer versions of Python support the older serialization formats, but older versions of Python do not support newer formats \n"
   ]
  },
  {
   "cell_type": "code",
   "execution_count": 10,
   "metadata": {},
   "outputs": [
    {
     "data": {
      "text/plain": [
       "{'title': 'Dive into history, 2009 edition',\n",
       " 'article_link': 'http://diveintomark.org/archives/2009/03/27/dive-into-history-2009-edition',\n",
       " 'comments_link': None,\n",
       " 'internal_id': b'\\xde\\xd5\\xb4\\xf8',\n",
       " 'tags': ('diveintopython', 'docbook', 'html'),\n",
       " 'published': True,\n",
       " 'published_date': time.struct_time(tm_year=2009, tm_mon=3, tm_mday=27, tm_hour=22, tm_min=20, tm_sec=42, tm_wday=4, tm_yday=86, tm_isdst=-1)}"
      ]
     },
     "execution_count": 10,
     "metadata": {},
     "output_type": "execute_result"
    }
   ],
   "source": [
    "with open('entry.pickle', 'rb') as f:\n",
    "    entry2 = pickle.load(f)\n",
    "\n",
    "entry2"
   ]
  },
  {
   "cell_type": "code",
   "execution_count": 11,
   "metadata": {},
   "outputs": [
    {
     "data": {
      "text/plain": [
       "True"
      ]
     },
     "execution_count": 11,
     "metadata": {},
     "output_type": "execute_result"
    }
   ],
   "source": [
    "entry2 == entry"
   ]
  },
  {
   "cell_type": "code",
   "execution_count": null,
   "metadata": {},
   "outputs": [],
   "source": [
    "# Equality is not the same as identity. entry2 is a copy of entry but both are different\n",
    "\n",
    "entry2 is entry"
   ]
  },
  {
   "cell_type": "code",
   "execution_count": 12,
   "metadata": {},
   "outputs": [],
   "source": [
    "# Pickling Without a File\n",
    "\n",
    "# pickle.dumps() function (note the 's' at the end of the function name) performs the same serialization as the pickle.dump() function.\n",
    "# Instead of taking a stream object and writing the serialized data to a file on disk, it simply returns the serialized data.\n",
    "\n",
    "b = pickle.dumps(entry)"
   ]
  },
  {
   "cell_type": "code",
   "execution_count": 13,
   "metadata": {},
   "outputs": [
    {
     "data": {
      "text/plain": [
       "bytes"
      ]
     },
     "execution_count": 13,
     "metadata": {},
     "output_type": "execute_result"
    }
   ],
   "source": [
    "type(b)"
   ]
  },
  {
   "cell_type": "code",
   "execution_count": 14,
   "metadata": {},
   "outputs": [
    {
     "data": {
      "text/plain": [
       "True"
      ]
     },
     "execution_count": 14,
     "metadata": {},
     "output_type": "execute_result"
    }
   ],
   "source": [
    "entry3 = pickle.loads(b)\n",
    "entry3 == entry"
   ]
  },
  {
   "cell_type": "code",
   "execution_count": 15,
   "metadata": {},
   "outputs": [],
   "source": [
    "# json module has functions for serializing data structures, storing the serialized data on disk, \n",
    "# loading serialized data from disk, and unserializing the data back into a new Python object.\n",
    "\n",
    "# Differences in json module compared to pickle:\n",
    "# 1. JSON data format is text-based, not binary. All JSON values are case-sensitive.\n",
    "# 2. JSON must be stored in a Unicode encoding (UTF-32, UTF-16, or the default, UTF-8)\n",
    "# 3. allows you to “pretty-print” your JSON data, nicely nesting values within values at different indentation levels"
   ]
  },
  {
   "cell_type": "code",
   "execution_count": 16,
   "metadata": {},
   "outputs": [],
   "source": [
    "basic_entry = {}\n",
    "basic_entry['id'] = 256\n",
    "basic_entry['title'] = 'Dive into history, 2009 edition'\n",
    "basic_entry['tags'] = ('diveintopython', 'docbook', 'html')\n",
    "basic_entry['published'] = True\n",
    "basic_entry['comments_link'] = None"
   ]
  },
  {
   "cell_type": "code",
   "execution_count": 17,
   "metadata": {},
   "outputs": [],
   "source": [
    "import json\n",
    "with open('basic.json', mode='w', encoding='utf-8') as f:\n",
    "    json.dump(basic_entry, f)"
   ]
  },
  {
   "cell_type": "code",
   "execution_count": 18,
   "metadata": {},
   "outputs": [],
   "source": [
    "with open('basic-pretty.json', mode='w', encoding='utf-8') as f:\n",
    "    json.dump(basic_entry, f, indent=2) "
   ]
  },
  {
   "cell_type": "code",
   "execution_count": 27,
   "metadata": {},
   "outputs": [],
   "source": [
    "# json doesn't support tuple and bytes.\n",
    "\n",
    "###### Serializing datatypes unsupported by json ######\n",
    "\n",
    "class CustomSerializer:\n",
    "    def to_json(python_object):\n",
    "        if isinstance(python_object, bytes):\n",
    "            return {'__class__': 'bytes',\n",
    "                    '__value__': list(python_object)}\n",
    "        \n",
    "        if isinstance(python_object, time.struct_time):\n",
    "            return {'__class__': 'time.asctime',\n",
    "                    '__value__': time.asctime(python_object)}\n",
    "        \n",
    "        raise TypeError(repr(python_object) + ' is not JSON serializable')\n",
    "    \n",
    "    def from_json(json_object):                                   \n",
    "        if '__class__' in json_object:                            \n",
    "            if json_object['__class__'] == 'time.asctime':\n",
    "                return time.strptime(json_object['__value__'])    \n",
    "            if json_object['__class__'] == 'bytes':\n",
    "                return bytes(json_object['__value__'])            \n",
    "        return json_object"
   ]
  },
  {
   "cell_type": "code",
   "execution_count": 28,
   "metadata": {},
   "outputs": [],
   "source": [
    "with open('entry.json', 'w', encoding='utf-8') as f:\n",
    "    json.dump(entry, f, default=CustomSerializer.to_json)"
   ]
  },
  {
   "cell_type": "code",
   "execution_count": 30,
   "metadata": {},
   "outputs": [
    {
     "data": {
      "text/plain": [
       "{'title': 'Dive into history, 2009 edition',\n",
       " 'article_link': 'http://diveintomark.org/archives/2009/03/27/dive-into-history-2009-edition',\n",
       " 'comments_link': None,\n",
       " 'internal_id': b'\\xde\\xd5\\xb4\\xf8',\n",
       " 'tags': ['diveintopython', 'docbook', 'html'],\n",
       " 'published': True,\n",
       " 'published_date': [2009, 3, 27, 22, 20, 42, 4, 86, -1]}"
      ]
     },
     "execution_count": 30,
     "metadata": {},
     "output_type": "execute_result"
    }
   ],
   "source": [
    "import json\n",
    "with open('entry.json', mode='r', encoding='utf-8') as f:\n",
    "    entry_json = json.load(f, object_hook=CustomSerializer.from_json)\n",
    "\n",
    "entry_json"
   ]
  },
  {
   "cell_type": "code",
   "execution_count": null,
   "metadata": {},
   "outputs": [],
   "source": []
  }
 ],
 "metadata": {
  "language_info": {
   "name": "python"
  }
 },
 "nbformat": 4,
 "nbformat_minor": 2
}
