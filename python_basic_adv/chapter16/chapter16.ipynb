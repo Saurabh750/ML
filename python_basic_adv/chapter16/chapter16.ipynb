{
 "cells": [
  {
   "cell_type": "code",
   "execution_count": 1,
   "metadata": {},
   "outputs": [],
   "source": [
    "####################### Packaging Python Libraries ##########################\n",
    "\n",
    "# To create a python whl file, use command:\n",
    "# python setup.py bdist_wheel\n",
    "\n",
    "# Project structure must be like this:\n",
    "# httplib2/      \n",
    "# |\n",
    "# +--README.txt             \n",
    "# |\n",
    "# +--setup.py               \n",
    "# |\n",
    "# +--httplib2/              \n",
    "#    |\n",
    "#    +--__init__.py\n",
    "#    |\n",
    "#    +--iri2uri.py"
   ]
  },
  {
   "cell_type": "code",
   "execution_count": 2,
   "metadata": {},
   "outputs": [],
   "source": [
    "# distutils module is used to define the setup file of our package\n",
    "# Sample setup file for chardet:\n",
    "        # from distutils.core import setup\n",
    "        # setup(\n",
    "        #     name = 'chardet',\n",
    "        #     packages = ['chardet'],\n",
    "        #     version = '1.0.2',\n",
    "        #     description = 'Universal encoding detector',\n",
    "        #     author='Mark Pilgrim',\n",
    "        #     ...\n",
    "        # )\n",
    "\n",
    "# 'packages' parameter tells distutils to include the chardet/ directory which contains the actual code"
   ]
  },
  {
   "cell_type": "code",
   "execution_count": 3,
   "metadata": {},
   "outputs": [],
   "source": [
    "# PyPI lets you browse packages by classifier. Proper classification metadata will allow people to find yours more easily.\n",
    "# To classify your software, pass a classifiers parameter to the Distutils setup() function.\n",
    "\n",
    "# Examples of good package classifiers; classifiers for Django\n",
    "        # Programming Language :: Python\n",
    "        # License :: OSI Approved :: BSD License\n",
    "        # Operating System :: OS Independent\n",
    "        # Development Status :: 5 - Production/Stable\n",
    "        # Environment :: Web Environment\n",
    "        # Framework :: Django\n",
    "        # Intended Audience :: Developers\n",
    "        # Topic :: Internet :: WWW/HTTP\n",
    "        # Topic :: Internet :: WWW/HTTP :: Dynamic Content\n",
    "        # Topic :: Internet :: WWW/HTTP :: WSGI\n",
    "        # Topic :: Software Development :: Libraries :: Python Modules"
   ]
  },
  {
   "cell_type": "code",
   "execution_count": null,
   "metadata": {},
   "outputs": [],
   "source": [
    "# Specifying Additional Files With A Manifest\n",
    "\n",
    "# By default, distutils will include the following files in your package:\n",
    "        # README.txt\n",
    "        # setup.py\n",
    "        # The .py files needed by the multi-file modules listed in the packages parameter\n",
    "        # The individual .py files listed in the py_modules parameter\n",
    "\n",
    "# To include/exclude some additional files in our package, use a manifest file.\n",
    "# A manifest file is a text file called MANIFEST.in. Place it in the project’s root directory, next to README.txt and setup.py.\n",
    "# Manifest files are not Python scripts; they are text files that contain a series of “commands” in a Distutils-defined format. \n",
    "# Manifest commands allow you to include or exclude specific files and directories.\n",
    "\n",
    "# Example:\n",
    "        # include COPYING.txt \n",
    "        # recursive-include docs *.html *.css *.png *.gif"
   ]
  },
  {
   "cell_type": "code",
   "execution_count": null,
   "metadata": {},
   "outputs": [],
   "source": [
    "# To check if setup.py is written without any errors:\n",
    "c:\\Users\\pilgrim\\chardet> c:\\python31\\python.exe setup.py check"
   ]
  },
  {
   "cell_type": "code",
   "execution_count": null,
   "metadata": {},
   "outputs": [],
   "source": []
  }
 ],
 "metadata": {
  "language_info": {
   "name": "python"
  }
 },
 "nbformat": 4,
 "nbformat_minor": 2
}
