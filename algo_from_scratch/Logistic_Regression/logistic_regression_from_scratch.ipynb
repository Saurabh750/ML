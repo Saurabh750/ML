{
 "cells": [
  {
   "cell_type": "code",
   "execution_count": 2,
   "metadata": {
    "execution": {
     "iopub.execute_input": "2025-01-19T09:56:52.298329Z",
     "iopub.status.busy": "2025-01-19T09:56:52.297880Z",
     "iopub.status.idle": "2025-01-19T09:56:52.303372Z",
     "shell.execute_reply": "2025-01-19T09:56:52.302186Z",
     "shell.execute_reply.started": "2025-01-19T09:56:52.298285Z"
    },
    "trusted": true
   },
   "outputs": [],
   "source": [
    "import numpy as np\n",
    "import pandas as pd"
   ]
  },
  {
   "cell_type": "code",
   "execution_count": 15,
   "metadata": {
    "execution": {
     "iopub.execute_input": "2025-01-19T10:51:27.734942Z",
     "iopub.status.busy": "2025-01-19T10:51:27.734578Z",
     "iopub.status.idle": "2025-01-19T10:51:27.743294Z",
     "shell.execute_reply": "2025-01-19T10:51:27.742071Z",
     "shell.execute_reply.started": "2025-01-19T10:51:27.734915Z"
    },
    "trusted": true
   },
   "outputs": [
    {
     "data": {
      "text/plain": [
       "array([[10,  4,  9, 16]])"
      ]
     },
     "execution_count": 15,
     "metadata": {},
     "output_type": "execute_result"
    }
   ],
   "source": [
    "# z = np.array([[0,0,0,0],[0,0,0,0],[0,0,0,0]])\n",
    "a = np.array([[1,2,3],[4,5,6],[7,8,9]])\n",
    "b = np.array([10,2,3,4])\n",
    "# np.sum(a, axis=1)\n",
    "(a * b[1:]) + b[0]\n",
    "c = np.array([[1],[2],[3],[4]])\n",
    "b*c.T"
   ]
  },
  {
   "cell_type": "code",
   "execution_count": 45,
   "metadata": {
    "execution": {
     "iopub.execute_input": "2025-01-19T04:40:23.857188Z",
     "iopub.status.busy": "2025-01-19T04:40:23.856788Z",
     "iopub.status.idle": "2025-01-19T04:40:23.863940Z",
     "shell.execute_reply": "2025-01-19T04:40:23.862877Z",
     "shell.execute_reply.started": "2025-01-19T04:40:23.857157Z"
    },
    "trusted": true
   },
   "outputs": [
    {
     "data": {
      "text/plain": [
       "array([[0.26894142, 0.11920292, 0.04742587],\n",
       "       [0.01798621, 0.00669285, 0.00247262]])"
      ]
     },
     "execution_count": 45,
     "metadata": {},
     "output_type": "execute_result"
    }
   ],
   "source": [
    "1 / (1+np.exp(a))"
   ]
  },
  {
   "cell_type": "code",
   "execution_count": 5,
   "metadata": {
    "execution": {
     "iopub.execute_input": "2025-01-19T09:57:58.350269Z",
     "iopub.status.busy": "2025-01-19T09:57:58.349771Z",
     "iopub.status.idle": "2025-01-19T09:57:58.355957Z",
     "shell.execute_reply": "2025-01-19T09:57:58.354589Z",
     "shell.execute_reply.started": "2025-01-19T09:57:58.350242Z"
    },
    "trusted": true
   },
   "outputs": [],
   "source": [
    "n = X_train.shape[1]             # for iris: n -> 4\n",
    "size = X_train.shape[0]          # for iris: size -> 70\n",
    "theta = np.zeros(shape=(n+1))    # n+1 array ; theta[0] will be treated like bias"
   ]
  },
  {
   "cell_type": "code",
   "execution_count": 6,
   "metadata": {
    "execution": {
     "iopub.execute_input": "2025-01-19T09:57:59.550244Z",
     "iopub.status.busy": "2025-01-19T09:57:59.549865Z",
     "iopub.status.idle": "2025-01-19T09:57:59.572174Z",
     "shell.execute_reply": "2025-01-19T09:57:59.570959Z",
     "shell.execute_reply.started": "2025-01-19T09:57:59.550214Z"
    },
    "trusted": true
   },
   "outputs": [
    {
     "data": {
      "text/html": [
       "<div>\n",
       "<style scoped>\n",
       "    .dataframe tbody tr th:only-of-type {\n",
       "        vertical-align: middle;\n",
       "    }\n",
       "\n",
       "    .dataframe tbody tr th {\n",
       "        vertical-align: top;\n",
       "    }\n",
       "\n",
       "    .dataframe thead th {\n",
       "        text-align: right;\n",
       "    }\n",
       "</style>\n",
       "<table border=\"1\" class=\"dataframe\">\n",
       "  <thead>\n",
       "    <tr style=\"text-align: right;\">\n",
       "      <th></th>\n",
       "      <th>0</th>\n",
       "      <th>1</th>\n",
       "      <th>2</th>\n",
       "      <th>3</th>\n",
       "    </tr>\n",
       "  </thead>\n",
       "  <tbody>\n",
       "    <tr>\n",
       "      <th>0</th>\n",
       "      <td>-1.028056</td>\n",
       "      <td>0.727482</td>\n",
       "      <td>-0.926212</td>\n",
       "      <td>-1.093326</td>\n",
       "    </tr>\n",
       "    <tr>\n",
       "      <th>1</th>\n",
       "      <td>-1.328531</td>\n",
       "      <td>0.290368</td>\n",
       "      <td>-1.068706</td>\n",
       "      <td>-1.093326</td>\n",
       "    </tr>\n",
       "    <tr>\n",
       "      <th>2</th>\n",
       "      <td>0.774798</td>\n",
       "      <td>0.727482</td>\n",
       "      <td>1.139953</td>\n",
       "      <td>1.427755</td>\n",
       "    </tr>\n",
       "    <tr>\n",
       "      <th>3</th>\n",
       "      <td>-0.427105</td>\n",
       "      <td>0.727482</td>\n",
       "      <td>-1.068706</td>\n",
       "      <td>-1.093326</td>\n",
       "    </tr>\n",
       "    <tr>\n",
       "      <th>4</th>\n",
       "      <td>-0.727580</td>\n",
       "      <td>-1.676644</td>\n",
       "      <td>0.284988</td>\n",
       "      <td>0.347292</td>\n",
       "    </tr>\n",
       "  </tbody>\n",
       "</table>\n",
       "</div>"
      ],
      "text/plain": [
       "          0         1         2         3\n",
       "0 -1.028056  0.727482 -0.926212 -1.093326\n",
       "1 -1.328531  0.290368 -1.068706 -1.093326\n",
       "2  0.774798  0.727482  1.139953  1.427755\n",
       "3 -0.427105  0.727482 -1.068706 -1.093326\n",
       "4 -0.727580 -1.676644  0.284988  0.347292"
      ]
     },
     "execution_count": 6,
     "metadata": {},
     "output_type": "execute_result"
    }
   ],
   "source": [
    "pd.DataFrame(X_train).head(5)"
   ]
  },
  {
   "cell_type": "code",
   "execution_count": 37,
   "metadata": {
    "execution": {
     "iopub.execute_input": "2025-01-19T04:29:25.501302Z",
     "iopub.status.busy": "2025-01-19T04:29:25.500837Z",
     "iopub.status.idle": "2025-01-19T04:29:25.509791Z",
     "shell.execute_reply": "2025-01-19T04:29:25.508371Z",
     "shell.execute_reply.started": "2025-01-19T04:29:25.501265Z"
    },
    "trusted": true
   },
   "outputs": [
    {
     "data": {
      "text/plain": [
       "(70, 100)"
      ]
     },
     "execution_count": 37,
     "metadata": {},
     "output_type": "execute_result"
    }
   ],
   "source": [
    "T = 100\n",
    "y_hat = np.zeros(shape=(X_train.shape[0], T))\n",
    "y_hat.shape"
   ]
  },
  {
   "cell_type": "code",
   "execution_count": 37,
   "metadata": {
    "execution": {
     "iopub.execute_input": "2025-01-19T11:10:56.165267Z",
     "iopub.status.busy": "2025-01-19T11:10:56.164905Z",
     "iopub.status.idle": "2025-01-19T11:10:56.250977Z",
     "shell.execute_reply": "2025-01-19T11:10:56.249841Z",
     "shell.execute_reply.started": "2025-01-19T11:10:56.165238Z"
    },
    "trusted": true
   },
   "outputs": [
    {
     "name": "stdout",
     "output_type": "stream",
     "text": [
      "Loss at the end of iteration 100: 0.21280137558900147\n",
      "Loss at the end of iteration 200: 0.2044449006313713\n",
      "Loss at the end of iteration 300: 0.19671547323911343\n",
      "Loss at the end of iteration 400: 0.1895472838539717\n",
      "Loss at the end of iteration 500: 0.18288311481701233\n",
      "Loss at the end of iteration 600: 0.17667302933915827\n",
      "Loss at the end of iteration 700: 0.17087328515199263\n",
      "Loss at the end of iteration 800: 0.1654454308317451\n",
      "Loss at the end of iteration 900: 0.16035555115248074\n",
      "Loss at the end of iteration 1000: 0.15557363445621344\n"
     ]
    }
   ],
   "source": [
    "T = 1000\n",
    "alpha = 1e-3\n",
    "for t in range(0,T):\n",
    "    # z will contain linear combination of input features for all input samples\n",
    "    z = np.zeros(shape=(size, n))\n",
    "    z = (X_train * theta[1:]) + theta[0]\n",
    "\n",
    "    # Storing z value for each input sample in theta_sum\n",
    "    theta_sum = np.zeros(shape=(size))\n",
    "    theta_sum = np.sum(z, axis=1)\n",
    "\n",
    "    # Predicting y_hat for each input sample using Sigmoid function\n",
    "    y_hat = 1 / (1 + np.exp(-theta_sum))\n",
    "\n",
    "    # Calculate gradient of loss function wrt every theta\n",
    "    del_L = np.zeros(shape=(n))\n",
    "    for i in range(0,n):\n",
    "        del_L[i] = np.sum((y_hat - y_train) * X_train[:,i].T)\n",
    "    del_L /= size\n",
    "    # print(pd.DataFrame(del_L))\n",
    "\n",
    "    # Update the gradients\n",
    "    theta[1:] = theta[1:] - (alpha * del_L)\n",
    "    # print(pd.DataFrame(theta))\n",
    "\n",
    "    # Print Loss according to your need, to check if its decreasing!\n",
    "    if (t+1) % 100 == 0:\n",
    "        Loss = np.sum((y_train * np.log(y_hat)) + ((1 - y_train) * np.log(1 - y_hat)))\n",
    "        Loss /= (-size)\n",
    "        print(f\"Loss at the end of iteration {t+1}: {Loss}\")"
   ]
  },
  {
   "cell_type": "code",
   "execution_count": 17,
   "metadata": {
    "execution": {
     "iopub.execute_input": "2025-01-19T10:52:05.274916Z",
     "iopub.status.busy": "2025-01-19T10:52:05.274097Z",
     "iopub.status.idle": "2025-01-19T10:52:05.281588Z",
     "shell.execute_reply": "2025-01-19T10:52:05.280388Z",
     "shell.execute_reply.started": "2025-01-19T10:52:05.274857Z"
    },
    "trusted": true
   },
   "outputs": [
    {
     "data": {
      "text/plain": [
       "(4,)"
      ]
     },
     "execution_count": 17,
     "metadata": {},
     "output_type": "execute_result"
    }
   ],
   "source": [
    "X_train[2].shape"
   ]
  },
  {
   "cell_type": "code",
   "execution_count": 35,
   "metadata": {
    "execution": {
     "iopub.execute_input": "2025-01-19T11:10:38.696795Z",
     "iopub.status.busy": "2025-01-19T11:10:38.696327Z",
     "iopub.status.idle": "2025-01-19T11:10:38.703094Z",
     "shell.execute_reply": "2025-01-19T11:10:38.701867Z",
     "shell.execute_reply.started": "2025-01-19T11:10:38.696757Z"
    },
    "trusted": true
   },
   "outputs": [
    {
     "name": "stdout",
     "output_type": "stream",
     "text": [
      "yo\n"
     ]
    }
   ],
   "source": [
    "t = 100\n",
    "if t % 10 == 0:\n",
    "    print(\"yo\")\n",
    "else:\n",
    "    print(\"no man\")"
   ]
  },
  {
   "cell_type": "code",
   "execution_count": null,
   "metadata": {
    "trusted": true
   },
   "outputs": [],
   "source": []
  },
  {
   "cell_type": "code",
   "execution_count": 40,
   "metadata": {
    "execution": {
     "iopub.execute_input": "2025-01-19T11:23:18.832366Z",
     "iopub.status.busy": "2025-01-19T11:23:18.832042Z",
     "iopub.status.idle": "2025-01-19T11:23:18.837836Z",
     "shell.execute_reply": "2025-01-19T11:23:18.836599Z",
     "shell.execute_reply.started": "2025-01-19T11:23:18.832340Z"
    },
    "trusted": true
   },
   "outputs": [],
   "source": [
    "z = np.zeros(shape=(size, n))\n",
    "z = (X_test * theta[1:]) + theta[0]\n",
    "\n",
    "# Storing z value for each input sample in theta_sum\n",
    "theta_sum = np.zeros(shape=(X_test.shape[0]))\n",
    "theta_sum = np.sum(z, axis=1)\n",
    "\n",
    "# Predicting y_hat for each input sample using Sigmoid function\n",
    "y_pred_scratch = 1 / (1 + np.exp(-theta_sum))"
   ]
  },
  {
   "cell_type": "code",
   "execution_count": 45,
   "metadata": {
    "execution": {
     "iopub.execute_input": "2025-01-19T11:26:24.297134Z",
     "iopub.status.busy": "2025-01-19T11:26:24.296805Z",
     "iopub.status.idle": "2025-01-19T11:26:24.306967Z",
     "shell.execute_reply": "2025-01-19T11:26:24.305771Z",
     "shell.execute_reply.started": "2025-01-19T11:26:24.297109Z"
    },
    "trusted": true
   },
   "outputs": [
    {
     "name": "stdout",
     "output_type": "stream",
     "text": [
      "      0\n",
      "0   1.0\n",
      "1   1.0\n",
      "2   1.0\n",
      "3   0.0\n",
      "4   0.0\n",
      "5   0.0\n",
      "6   0.0\n",
      "7   1.0\n",
      "8   0.0\n",
      "9   0.0\n",
      "10  0.0\n",
      "11  0.0\n",
      "12  1.0\n",
      "13  0.0\n",
      "14  1.0\n",
      "15  0.0\n",
      "16  1.0\n",
      "17  1.0\n",
      "18  0.0\n",
      "19  0.0\n",
      "20  1.0\n",
      "21  1.0\n",
      "22  0.0\n",
      "23  0.0\n",
      "24  1.0\n",
      "25  0.0\n",
      "26  0.0\n",
      "27  1.0\n",
      "28  0.0\n",
      "29  1.0\n"
     ]
    }
   ],
   "source": [
    "for i in range(0, y_pred_scratch.shape[0]):\n",
    "    if y_pred_scratch[i] >= 0.5:\n",
    "        y_pred_scratch[i] = 1\n",
    "    else:\n",
    "        y_pred_scratch[i] = 0\n",
    "print(pd.DataFrame(y_pred_scratch))"
   ]
  },
  {
   "cell_type": "code",
   "execution_count": 46,
   "metadata": {
    "execution": {
     "iopub.execute_input": "2025-01-19T11:27:04.578573Z",
     "iopub.status.busy": "2025-01-19T11:27:04.577943Z",
     "iopub.status.idle": "2025-01-19T11:27:04.589631Z",
     "shell.execute_reply": "2025-01-19T11:27:04.588177Z",
     "shell.execute_reply.started": "2025-01-19T11:27:04.578528Z"
    },
    "trusted": true
   },
   "outputs": [
    {
     "name": "stdout",
     "output_type": "stream",
     "text": [
      "Accuracy: 100.00%\n",
      "Confusion Matrix:\n",
      "[[17  0]\n",
      " [ 0 13]]\n"
     ]
    }
   ],
   "source": [
    "accuracy = accuracy_score(y_test, y_pred_scratch)\n",
    "conf_matrix = confusion_matrix(y_test, y_pred_scratch)\n",
    "\n",
    "print(f\"Accuracy: {accuracy * 100:.2f}%\")\n",
    "print(\"Confusion Matrix:\")\n",
    "print(conf_matrix)"
   ]
  },
  {
   "cell_type": "code",
   "execution_count": null,
   "metadata": {
    "trusted": true
   },
   "outputs": [],
   "source": []
  },
  {
   "cell_type": "code",
   "execution_count": null,
   "metadata": {
    "trusted": true
   },
   "outputs": [],
   "source": []
  },
  {
   "cell_type": "code",
   "execution_count": null,
   "metadata": {
    "trusted": true
   },
   "outputs": [],
   "source": []
  },
  {
   "cell_type": "code",
   "execution_count": null,
   "metadata": {
    "trusted": true
   },
   "outputs": [],
   "source": []
  },
  {
   "cell_type": "code",
   "execution_count": null,
   "metadata": {
    "trusted": true
   },
   "outputs": [],
   "source": []
  },
  {
   "cell_type": "code",
   "execution_count": null,
   "metadata": {
    "trusted": true
   },
   "outputs": [],
   "source": []
  },
  {
   "cell_type": "code",
   "execution_count": null,
   "metadata": {
    "trusted": true
   },
   "outputs": [],
   "source": []
  },
  {
   "cell_type": "code",
   "execution_count": null,
   "metadata": {
    "trusted": true
   },
   "outputs": [],
   "source": []
  },
  {
   "cell_type": "code",
   "execution_count": null,
   "metadata": {
    "trusted": true
   },
   "outputs": [],
   "source": []
  },
  {
   "cell_type": "code",
   "execution_count": null,
   "metadata": {
    "trusted": true
   },
   "outputs": [],
   "source": []
  },
  {
   "cell_type": "code",
   "execution_count": null,
   "metadata": {
    "trusted": true
   },
   "outputs": [],
   "source": []
  },
  {
   "cell_type": "code",
   "execution_count": null,
   "metadata": {
    "trusted": true
   },
   "outputs": [],
   "source": []
  },
  {
   "cell_type": "code",
   "execution_count": null,
   "metadata": {
    "trusted": true
   },
   "outputs": [],
   "source": []
  },
  {
   "cell_type": "code",
   "execution_count": null,
   "metadata": {
    "trusted": true
   },
   "outputs": [],
   "source": []
  },
  {
   "cell_type": "code",
   "execution_count": null,
   "metadata": {
    "trusted": true
   },
   "outputs": [],
   "source": []
  },
  {
   "cell_type": "code",
   "execution_count": null,
   "metadata": {
    "trusted": true
   },
   "outputs": [],
   "source": []
  },
  {
   "cell_type": "code",
   "execution_count": 21,
   "metadata": {
    "execution": {
     "iopub.execute_input": "2025-01-19T10:56:48.084201Z",
     "iopub.status.busy": "2025-01-19T10:56:48.083862Z",
     "iopub.status.idle": "2025-01-19T10:56:48.090794Z",
     "shell.execute_reply": "2025-01-19T10:56:48.089295Z",
     "shell.execute_reply.started": "2025-01-19T10:56:48.084174Z"
    },
    "trusted": true
   },
   "outputs": [
    {
     "data": {
      "text/plain": [
       "0.01"
      ]
     },
     "execution_count": 21,
     "metadata": {},
     "output_type": "execute_result"
    }
   ],
   "source": [
    "beta = 1e-2\n",
    "beta"
   ]
  },
  {
   "cell_type": "code",
   "execution_count": 42,
   "metadata": {
    "execution": {
     "iopub.execute_input": "2025-01-19T11:23:54.044598Z",
     "iopub.status.busy": "2025-01-19T11:23:54.044212Z",
     "iopub.status.idle": "2025-01-19T11:23:54.065573Z",
     "shell.execute_reply": "2025-01-19T11:23:54.064368Z",
     "shell.execute_reply.started": "2025-01-19T11:23:54.044566Z"
    },
    "trusted": true
   },
   "outputs": [
    {
     "name": "stdout",
     "output_type": "stream",
     "text": [
      "Accuracy: 100.00%\n",
      "Confusion Matrix:\n",
      "[[17  0]\n",
      " [ 0 13]]\n"
     ]
    }
   ],
   "source": [
    "from sklearn.datasets import load_iris\n",
    "from sklearn.model_selection import train_test_split\n",
    "from sklearn.linear_model import LogisticRegression\n",
    "from sklearn.preprocessing import StandardScaler\n",
    "from sklearn.metrics import accuracy_score, confusion_matrix\n",
    "\n",
    "# Load dataset and prepare binary classification (class 0 vs class 1)\n",
    "iris = load_iris()\n",
    "X = iris.data[iris.target != 2]  # Only classes 0 and 1\n",
    "y = iris.target[iris.target != 2]\n",
    "\n",
    "# Split into training and testing sets\n",
    "X_train, X_test, y_train, y_test = train_test_split(X, y, test_size=0.3, random_state=42)\n",
    "\n",
    "# Standardize the features\n",
    "scaler = StandardScaler()\n",
    "X_train = scaler.fit_transform(X_train)\n",
    "X_test = scaler.transform(X_test)\n",
    "\n",
    "# Train the logistic regression model\n",
    "model = LogisticRegression()\n",
    "model.fit(X_train, y_train)\n",
    "\n",
    "# Make predictions\n",
    "y_pred = model.predict(X_test)\n",
    "\n",
    "# Evaluate the model\n",
    "accuracy = accuracy_score(y_test, y_pred)\n",
    "conf_matrix = confusion_matrix(y_test, y_pred)\n",
    "\n",
    "print(f\"Accuracy: {accuracy * 100:.2f}%\")\n",
    "print(\"Confusion Matrix:\")\n",
    "print(conf_matrix)\n"
   ]
  },
  {
   "cell_type": "code",
   "execution_count": 4,
   "metadata": {
    "execution": {
     "iopub.execute_input": "2025-01-19T03:48:35.569645Z",
     "iopub.status.busy": "2025-01-19T03:48:35.569076Z",
     "iopub.status.idle": "2025-01-19T03:48:35.577343Z",
     "shell.execute_reply": "2025-01-19T03:48:35.576073Z",
     "shell.execute_reply.started": "2025-01-19T03:48:35.569607Z"
    },
    "trusted": true
   },
   "outputs": [
    {
     "data": {
      "text/plain": [
       "(70, 4)"
      ]
     },
     "execution_count": 4,
     "metadata": {},
     "output_type": "execute_result"
    }
   ],
   "source": [
    "X_train.shape"
   ]
  },
  {
   "cell_type": "code",
   "execution_count": 6,
   "metadata": {
    "execution": {
     "iopub.execute_input": "2025-01-19T03:49:04.511476Z",
     "iopub.status.busy": "2025-01-19T03:49:04.511129Z",
     "iopub.status.idle": "2025-01-19T03:49:04.533479Z",
     "shell.execute_reply": "2025-01-19T03:49:04.531903Z",
     "shell.execute_reply.started": "2025-01-19T03:49:04.511450Z"
    },
    "trusted": true
   },
   "outputs": [
    {
     "data": {
      "text/html": [
       "<div>\n",
       "<style scoped>\n",
       "    .dataframe tbody tr th:only-of-type {\n",
       "        vertical-align: middle;\n",
       "    }\n",
       "\n",
       "    .dataframe tbody tr th {\n",
       "        vertical-align: top;\n",
       "    }\n",
       "\n",
       "    .dataframe thead th {\n",
       "        text-align: right;\n",
       "    }\n",
       "</style>\n",
       "<table border=\"1\" class=\"dataframe\">\n",
       "  <thead>\n",
       "    <tr style=\"text-align: right;\">\n",
       "      <th></th>\n",
       "      <th>0</th>\n",
       "      <th>1</th>\n",
       "      <th>2</th>\n",
       "      <th>3</th>\n",
       "    </tr>\n",
       "  </thead>\n",
       "  <tbody>\n",
       "    <tr>\n",
       "      <th>0</th>\n",
       "      <td>-1.028056</td>\n",
       "      <td>0.727482</td>\n",
       "      <td>-0.926212</td>\n",
       "      <td>-1.093326</td>\n",
       "    </tr>\n",
       "    <tr>\n",
       "      <th>1</th>\n",
       "      <td>-1.328531</td>\n",
       "      <td>0.290368</td>\n",
       "      <td>-1.068706</td>\n",
       "      <td>-1.093326</td>\n",
       "    </tr>\n",
       "    <tr>\n",
       "      <th>2</th>\n",
       "      <td>0.774798</td>\n",
       "      <td>0.727482</td>\n",
       "      <td>1.139953</td>\n",
       "      <td>1.427755</td>\n",
       "    </tr>\n",
       "    <tr>\n",
       "      <th>3</th>\n",
       "      <td>-0.427105</td>\n",
       "      <td>0.727482</td>\n",
       "      <td>-1.068706</td>\n",
       "      <td>-1.093326</td>\n",
       "    </tr>\n",
       "    <tr>\n",
       "      <th>4</th>\n",
       "      <td>-0.727580</td>\n",
       "      <td>-1.676644</td>\n",
       "      <td>0.284988</td>\n",
       "      <td>0.347292</td>\n",
       "    </tr>\n",
       "  </tbody>\n",
       "</table>\n",
       "</div>"
      ],
      "text/plain": [
       "          0         1         2         3\n",
       "0 -1.028056  0.727482 -0.926212 -1.093326\n",
       "1 -1.328531  0.290368 -1.068706 -1.093326\n",
       "2  0.774798  0.727482  1.139953  1.427755\n",
       "3 -0.427105  0.727482 -1.068706 -1.093326\n",
       "4 -0.727580 -1.676644  0.284988  0.347292"
      ]
     },
     "execution_count": 6,
     "metadata": {},
     "output_type": "execute_result"
    }
   ],
   "source": [
    "pd.DataFrame(X_train).head(5)"
   ]
  },
  {
   "cell_type": "code",
   "execution_count": 11,
   "metadata": {
    "execution": {
     "iopub.execute_input": "2025-01-19T10:42:47.982845Z",
     "iopub.status.busy": "2025-01-19T10:42:47.982232Z",
     "iopub.status.idle": "2025-01-19T10:42:47.997018Z",
     "shell.execute_reply": "2025-01-19T10:42:47.995819Z",
     "shell.execute_reply.started": "2025-01-19T10:42:47.982784Z"
    },
    "trusted": true
   },
   "outputs": [
    {
     "data": {
      "text/plain": [
       "(70,)"
      ]
     },
     "execution_count": 11,
     "metadata": {},
     "output_type": "execute_result"
    }
   ],
   "source": [
    "y_train.shape"
   ]
  },
  {
   "cell_type": "code",
   "execution_count": 44,
   "metadata": {
    "execution": {
     "iopub.execute_input": "2025-01-19T11:24:20.939274Z",
     "iopub.status.busy": "2025-01-19T11:24:20.938796Z",
     "iopub.status.idle": "2025-01-19T11:24:20.949453Z",
     "shell.execute_reply": "2025-01-19T11:24:20.948247Z",
     "shell.execute_reply.started": "2025-01-19T11:24:20.939227Z"
    },
    "trusted": true
   },
   "outputs": [
    {
     "data": {
      "text/html": [
       "<div>\n",
       "<style scoped>\n",
       "    .dataframe tbody tr th:only-of-type {\n",
       "        vertical-align: middle;\n",
       "    }\n",
       "\n",
       "    .dataframe tbody tr th {\n",
       "        vertical-align: top;\n",
       "    }\n",
       "\n",
       "    .dataframe thead th {\n",
       "        text-align: right;\n",
       "    }\n",
       "</style>\n",
       "<table border=\"1\" class=\"dataframe\">\n",
       "  <thead>\n",
       "    <tr style=\"text-align: right;\">\n",
       "      <th></th>\n",
       "      <th>0</th>\n",
       "    </tr>\n",
       "  </thead>\n",
       "  <tbody>\n",
       "    <tr>\n",
       "      <th>0</th>\n",
       "      <td>1</td>\n",
       "    </tr>\n",
       "    <tr>\n",
       "      <th>1</th>\n",
       "      <td>1</td>\n",
       "    </tr>\n",
       "    <tr>\n",
       "      <th>2</th>\n",
       "      <td>1</td>\n",
       "    </tr>\n",
       "    <tr>\n",
       "      <th>3</th>\n",
       "      <td>0</td>\n",
       "    </tr>\n",
       "    <tr>\n",
       "      <th>4</th>\n",
       "      <td>0</td>\n",
       "    </tr>\n",
       "  </tbody>\n",
       "</table>\n",
       "</div>"
      ],
      "text/plain": [
       "   0\n",
       "0  1\n",
       "1  1\n",
       "2  1\n",
       "3  0\n",
       "4  0"
      ]
     },
     "execution_count": 44,
     "metadata": {},
     "output_type": "execute_result"
    }
   ],
   "source": [
    "pd.DataFrame(y_pred).head(5)"
   ]
  },
  {
   "cell_type": "code",
   "execution_count": null,
   "metadata": {
    "trusted": true
   },
   "outputs": [],
   "source": []
  }
 ],
 "metadata": {
  "kaggle": {
   "accelerator": "none",
   "dataSources": [],
   "dockerImageVersionId": 30839,
   "isGpuEnabled": false,
   "isInternetEnabled": true,
   "language": "python",
   "sourceType": "notebook"
  },
  "kernelspec": {
   "display_name": "Python 3",
   "language": "python",
   "name": "python3"
  },
  "language_info": {
   "codemirror_mode": {
    "name": "ipython",
    "version": 3
   },
   "file_extension": ".py",
   "mimetype": "text/x-python",
   "name": "python",
   "nbconvert_exporter": "python",
   "pygments_lexer": "ipython3",
   "version": "3.10.12"
  }
 },
 "nbformat": 4,
 "nbformat_minor": 4
}
