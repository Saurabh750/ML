{
 "cells": [
  {
   "cell_type": "code",
   "execution_count": 2,
   "metadata": {
    "execution": {
     "iopub.execute_input": "2025-01-21T03:36:13.746073Z",
     "iopub.status.busy": "2025-01-21T03:36:13.745583Z",
     "iopub.status.idle": "2025-01-21T03:36:14.171519Z",
     "shell.execute_reply": "2025-01-21T03:36:14.170515Z",
     "shell.execute_reply.started": "2025-01-21T03:36:13.746040Z"
    },
    "trusted": true
   },
   "outputs": [],
   "source": [
    "import pandas as pd\n",
    "import numpy as np"
   ]
  },
  {
   "cell_type": "code",
   "execution_count": 3,
   "metadata": {
    "execution": {
     "iopub.execute_input": "2025-01-21T03:36:23.515857Z",
     "iopub.status.busy": "2025-01-21T03:36:23.515375Z",
     "iopub.status.idle": "2025-01-21T03:36:23.533023Z",
     "shell.execute_reply": "2025-01-21T03:36:23.532096Z",
     "shell.execute_reply.started": "2025-01-21T03:36:23.515827Z"
    },
    "trusted": true
   },
   "outputs": [],
   "source": [
    "# Import necessary libraries\n",
    "from sklearn import datasets\n",
    "from sklearn.model_selection import train_test_split\n",
    "from sklearn.preprocessing import StandardScaler\n",
    "from sklearn.metrics import accuracy_score, confusion_matrix\n",
    "\n",
    "# Step 1: Load the Breast Cancer dataset\n",
    "cancer = datasets.load_breast_cancer()\n",
    "X = cancer.data\n",
    "y = cancer.target\n",
    "\n",
    "# Step 2: Split the dataset into training and testing sets\n",
    "X_train, X_test, y_train, y_test = train_test_split(X, y, test_size=0.3, random_state=42)\n",
    "\n",
    "# Step 3: Standardize the features (important for logistic regression)\n",
    "scaler = StandardScaler()\n",
    "X_train = scaler.fit_transform(X_train)\n",
    "X_test = scaler.transform(X_test)"
   ]
  },
  {
   "cell_type": "code",
   "execution_count": 6,
   "metadata": {
    "execution": {
     "iopub.execute_input": "2025-01-21T03:39:20.143766Z",
     "iopub.status.busy": "2025-01-21T03:39:20.143443Z",
     "iopub.status.idle": "2025-01-21T03:39:20.158448Z",
     "shell.execute_reply": "2025-01-21T03:39:20.157280Z",
     "shell.execute_reply.started": "2025-01-21T03:39:20.143743Z"
    },
    "trusted": true
   },
   "outputs": [],
   "source": [
    "class LogisticRegressionFromScratch:\n",
    "    def __init__(self, X_train: np.ndarray, \n",
    "                 y_train: np.ndarray,\n",
    "                 alpha: float = 1e-3, \n",
    "                 T: int = 1000,\n",
    "                 bias: float = 0):\n",
    "        self.X_train = X_train\n",
    "        self.size = X_train.shape[0]    # Number of input samples in X_train\n",
    "        self.n = X_train.shape[1]       # Number of features in X_train\n",
    "        self.y_train = y_train          \n",
    "        self.alpha = alpha              # learning rate\n",
    "        self.T = T                      # number of iterations\n",
    "        self.bias = bias\n",
    "        # Theta will contain weights used for finding linear combination of input features\n",
    "        self.theta = np.zeros(shape=(self.n+1)) # n+1 array ; theta[0] will be treated like bias\n",
    "        self.theta[0] = self.bias               # By default bias will be zero\n",
    "        \n",
    "\n",
    "    def fit_data(self):\n",
    "        for t in range(0,self.T):\n",
    "            # z will contain linear combination of input features for all input samples\n",
    "            z = np.zeros(shape=(self.size, self.n))\n",
    "            z = (self.X_train * self.theta[1:]) + self.theta[0]\n",
    "        \n",
    "            # Storing z value for each input sample in theta_sum\n",
    "            theta_sum = np.zeros(shape=(self.size))\n",
    "            theta_sum = np.sum(z, axis=1)\n",
    "        \n",
    "            # Predicting y_hat for each input sample using Sigmoid function\n",
    "            y_hat = 1 / (1 + np.exp(-theta_sum))\n",
    "        \n",
    "            # Calculate gradient of loss function wrt every theta\n",
    "            del_L = np.zeros(shape=(self.n))\n",
    "            for i in range(0,self.n):\n",
    "                del_L[i] = np.sum((y_hat - self.y_train) * self.X_train[:,i].T)\n",
    "            del_L /= self.size\n",
    "            # print(pd.DataFrame(del_L))\n",
    "        \n",
    "            # Update the weights used for linear combination using gradient descent\n",
    "            self.theta[1:] = self.theta[1:] - (self.alpha * del_L)\n",
    "            # print(pd.DataFrame(self.theta))\n",
    "        \n",
    "            # Print Loss according to your need, to check if its decreasing!\n",
    "            if (t+1) % 100 == 0:\n",
    "                Loss = np.sum((self.y_train * np.log(y_hat)) + ((1 - self.y_train) * np.log(1 - y_hat)))\n",
    "                Loss /= (-self.size)\n",
    "                print(f\"Loss at the end of iteration {t+1}: {Loss}\")\n",
    "        \n",
    "\n",
    "    def predict(self, X_test):\n",
    "        z = np.zeros(shape=(self.size, self.n))\n",
    "        z = (X_test * self.theta[1:]) + self.theta[0]\n",
    "        \n",
    "        # Storing z value for each input sample in theta_sum\n",
    "        theta_sum = np.zeros(shape=(X_test.shape[0]))\n",
    "        theta_sum = np.sum(z, axis=1)\n",
    "        \n",
    "        # Predicting y_hat for each input sample using Sigmoid function\n",
    "        y_pred_scratch = 1 / (1 + np.exp(-theta_sum))\n",
    "\n",
    "        for i in range(0, y_pred_scratch.shape[0]):\n",
    "            if y_pred_scratch[i] >= 0.5:\n",
    "                y_pred_scratch[i] = 1\n",
    "            else:\n",
    "                y_pred_scratch[i] = 0\n",
    "        # print(pd.DataFrame(y_pred_scratch))\n",
    "        return y_pred_scratch\n",
    "        \n",
    "        "
   ]
  },
  {
   "cell_type": "code",
   "execution_count": 8,
   "metadata": {
    "execution": {
     "iopub.execute_input": "2025-01-21T03:39:33.920765Z",
     "iopub.status.busy": "2025-01-21T03:39:33.920407Z",
     "iopub.status.idle": "2025-01-21T03:39:34.256089Z",
     "shell.execute_reply": "2025-01-21T03:39:34.254981Z",
     "shell.execute_reply.started": "2025-01-21T03:39:33.920735Z"
    },
    "trusted": true
   },
   "outputs": [
    {
     "name": "stdout",
     "output_type": "stream",
     "text": [
      "Loss at the end of iteration 100: 0.5495188370090558\n",
      "Loss at the end of iteration 200: 0.4649029058424642\n",
      "Loss at the end of iteration 300: 0.4099834379516932\n",
      "Loss at the end of iteration 400: 0.37128493495153403\n",
      "Loss at the end of iteration 500: 0.34237175967430744\n",
      "Loss at the end of iteration 600: 0.3198175607681469\n",
      "Loss at the end of iteration 700: 0.3016363530410952\n",
      "Loss at the end of iteration 800: 0.2865985763156334\n",
      "Loss at the end of iteration 900: 0.27390214391425804\n",
      "Loss at the end of iteration 1000: 0.2630011691352403\n"
     ]
    }
   ],
   "source": [
    "model = LogisticRegressionFromScratch(X_train, y_train)\n",
    "model.fit_data()\n",
    "y_pred = model.predict(X_test)"
   ]
  },
  {
   "cell_type": "code",
   "execution_count": 9,
   "metadata": {
    "execution": {
     "iopub.execute_input": "2025-01-21T03:40:09.680670Z",
     "iopub.status.busy": "2025-01-21T03:40:09.680310Z",
     "iopub.status.idle": "2025-01-21T03:40:09.698662Z",
     "shell.execute_reply": "2025-01-21T03:40:09.697615Z",
     "shell.execute_reply.started": "2025-01-21T03:40:09.680644Z"
    },
    "trusted": true
   },
   "outputs": [
    {
     "data": {
      "text/html": [
       "<div>\n",
       "<style scoped>\n",
       "    .dataframe tbody tr th:only-of-type {\n",
       "        vertical-align: middle;\n",
       "    }\n",
       "\n",
       "    .dataframe tbody tr th {\n",
       "        vertical-align: top;\n",
       "    }\n",
       "\n",
       "    .dataframe thead th {\n",
       "        text-align: right;\n",
       "    }\n",
       "</style>\n",
       "<table border=\"1\" class=\"dataframe\">\n",
       "  <thead>\n",
       "    <tr style=\"text-align: right;\">\n",
       "      <th></th>\n",
       "      <th>0</th>\n",
       "    </tr>\n",
       "  </thead>\n",
       "  <tbody>\n",
       "    <tr>\n",
       "      <th>0</th>\n",
       "      <td>1.0</td>\n",
       "    </tr>\n",
       "    <tr>\n",
       "      <th>1</th>\n",
       "      <td>0.0</td>\n",
       "    </tr>\n",
       "    <tr>\n",
       "      <th>2</th>\n",
       "      <td>0.0</td>\n",
       "    </tr>\n",
       "    <tr>\n",
       "      <th>3</th>\n",
       "      <td>1.0</td>\n",
       "    </tr>\n",
       "    <tr>\n",
       "      <th>4</th>\n",
       "      <td>1.0</td>\n",
       "    </tr>\n",
       "  </tbody>\n",
       "</table>\n",
       "</div>"
      ],
      "text/plain": [
       "     0\n",
       "0  1.0\n",
       "1  0.0\n",
       "2  0.0\n",
       "3  1.0\n",
       "4  1.0"
      ]
     },
     "execution_count": 9,
     "metadata": {},
     "output_type": "execute_result"
    }
   ],
   "source": [
    "pd.DataFrame(y_pred).head(5)"
   ]
  },
  {
   "cell_type": "code",
   "execution_count": 10,
   "metadata": {
    "execution": {
     "iopub.execute_input": "2025-01-21T03:40:46.114296Z",
     "iopub.status.busy": "2025-01-21T03:40:46.113784Z",
     "iopub.status.idle": "2025-01-21T03:40:46.127661Z",
     "shell.execute_reply": "2025-01-21T03:40:46.125912Z",
     "shell.execute_reply.started": "2025-01-21T03:40:46.114253Z"
    },
    "trusted": true
   },
   "outputs": [
    {
     "name": "stdout",
     "output_type": "stream",
     "text": [
      "Accuracy: 95.32%\n",
      "Confusion Matrix:\n",
      "[[ 61   2]\n",
      " [  6 102]]\n"
     ]
    }
   ],
   "source": [
    "accuracy = accuracy_score(y_test, y_pred)\n",
    "conf_matrix = confusion_matrix(y_test, y_pred)\n",
    "\n",
    "print(f\"Accuracy: {accuracy * 100:.2f}%\")\n",
    "print(\"Confusion Matrix:\")\n",
    "print(conf_matrix)"
   ]
  },
  {
   "cell_type": "code",
   "execution_count": null,
   "metadata": {
    "trusted": true
   },
   "outputs": [],
   "source": [
    "# Increasing number of iterations helps in reducing loss value"
   ]
  },
  {
   "cell_type": "code",
   "execution_count": 11,
   "metadata": {
    "execution": {
     "iopub.execute_input": "2025-01-21T03:42:37.230082Z",
     "iopub.status.busy": "2025-01-21T03:42:37.229627Z",
     "iopub.status.idle": "2025-01-21T03:42:37.885822Z",
     "shell.execute_reply": "2025-01-21T03:42:37.884599Z",
     "shell.execute_reply.started": "2025-01-21T03:42:37.230047Z"
    },
    "trusted": true
   },
   "outputs": [
    {
     "name": "stdout",
     "output_type": "stream",
     "text": [
      "Loss at the end of iteration 100: 0.5495188370090558\n",
      "Loss at the end of iteration 200: 0.4649029058424642\n",
      "Loss at the end of iteration 300: 0.4099834379516932\n",
      "Loss at the end of iteration 400: 0.37128493495153403\n",
      "Loss at the end of iteration 500: 0.34237175967430744\n",
      "Loss at the end of iteration 600: 0.3198175607681469\n",
      "Loss at the end of iteration 700: 0.3016363530410952\n",
      "Loss at the end of iteration 800: 0.2865985763156334\n",
      "Loss at the end of iteration 900: 0.27390214391425804\n",
      "Loss at the end of iteration 1000: 0.2630011691352403\n",
      "Loss at the end of iteration 1100: 0.2535108693202501\n",
      "Loss at the end of iteration 1200: 0.24515189673938187\n",
      "Loss at the end of iteration 1300: 0.23771627475097115\n",
      "Loss at the end of iteration 1400: 0.2310457561303717\n",
      "Loss at the end of iteration 1500: 0.2250176224127801\n",
      "Loss at the end of iteration 1600: 0.21953510090980713\n",
      "Loss at the end of iteration 1700: 0.2145207370112907\n",
      "Loss at the end of iteration 1800: 0.20991170980283833\n",
      "Loss at the end of iteration 1900: 0.20565645659355647\n",
      "Loss at the end of iteration 2000: 0.2017121981149905\n"
     ]
    }
   ],
   "source": [
    "model = LogisticRegressionFromScratch(X_train, y_train, T=2000)\n",
    "model.fit_data()\n",
    "y_pred = model.predict(X_test)"
   ]
  },
  {
   "cell_type": "code",
   "execution_count": 12,
   "metadata": {
    "execution": {
     "iopub.execute_input": "2025-01-21T03:42:51.556678Z",
     "iopub.status.busy": "2025-01-21T03:42:51.556256Z",
     "iopub.status.idle": "2025-01-21T03:42:51.567364Z",
     "shell.execute_reply": "2025-01-21T03:42:51.566196Z",
     "shell.execute_reply.started": "2025-01-21T03:42:51.556651Z"
    },
    "trusted": true
   },
   "outputs": [
    {
     "name": "stdout",
     "output_type": "stream",
     "text": [
      "Accuracy: 97.08%\n",
      "Confusion Matrix:\n",
      "[[ 62   1]\n",
      " [  4 104]]\n"
     ]
    }
   ],
   "source": [
    "accuracy = accuracy_score(y_test, y_pred)\n",
    "conf_matrix = confusion_matrix(y_test, y_pred)\n",
    "\n",
    "print(f\"Accuracy: {accuracy * 100:.2f}%\")\n",
    "print(\"Confusion Matrix:\")\n",
    "print(conf_matrix)"
   ]
  },
  {
   "cell_type": "code",
   "execution_count": null,
   "metadata": {
    "trusted": true
   },
   "outputs": [],
   "source": []
  },
  {
   "cell_type": "code",
   "execution_count": null,
   "metadata": {
    "trusted": true
   },
   "outputs": [],
   "source": []
  },
  {
   "cell_type": "code",
   "execution_count": null,
   "metadata": {
    "trusted": true
   },
   "outputs": [],
   "source": []
  },
  {
   "cell_type": "code",
   "execution_count": null,
   "metadata": {
    "trusted": true
   },
   "outputs": [],
   "source": []
  },
  {
   "cell_type": "code",
   "execution_count": null,
   "metadata": {
    "trusted": true
   },
   "outputs": [],
   "source": []
  },
  {
   "cell_type": "code",
   "execution_count": null,
   "metadata": {
    "trusted": true
   },
   "outputs": [],
   "source": []
  },
  {
   "cell_type": "code",
   "execution_count": 21,
   "metadata": {
    "execution": {
     "iopub.execute_input": "2025-01-19T10:56:48.084201Z",
     "iopub.status.busy": "2025-01-19T10:56:48.083862Z",
     "iopub.status.idle": "2025-01-19T10:56:48.090794Z",
     "shell.execute_reply": "2025-01-19T10:56:48.089295Z",
     "shell.execute_reply.started": "2025-01-19T10:56:48.084174Z"
    },
    "trusted": true
   },
   "outputs": [
    {
     "data": {
      "text/plain": [
       "0.01"
      ]
     },
     "execution_count": 21,
     "metadata": {},
     "output_type": "execute_result"
    }
   ],
   "source": [
    "beta = 1e-2\n",
    "beta"
   ]
  },
  {
   "cell_type": "code",
   "execution_count": 42,
   "metadata": {
    "execution": {
     "iopub.execute_input": "2025-01-19T11:23:54.044598Z",
     "iopub.status.busy": "2025-01-19T11:23:54.044212Z",
     "iopub.status.idle": "2025-01-19T11:23:54.065573Z",
     "shell.execute_reply": "2025-01-19T11:23:54.064368Z",
     "shell.execute_reply.started": "2025-01-19T11:23:54.044566Z"
    },
    "trusted": true
   },
   "outputs": [
    {
     "name": "stdout",
     "output_type": "stream",
     "text": [
      "Accuracy: 100.00%\n",
      "Confusion Matrix:\n",
      "[[17  0]\n",
      " [ 0 13]]\n"
     ]
    }
   ],
   "source": [
    "from sklearn.datasets import load_iris\n",
    "from sklearn.model_selection import train_test_split\n",
    "from sklearn.linear_model import LogisticRegression\n",
    "from sklearn.preprocessing import StandardScaler\n",
    "from sklearn.metrics import accuracy_score, confusion_matrix\n",
    "\n",
    "# Load dataset and prepare binary classification (class 0 vs class 1)\n",
    "iris = load_iris()\n",
    "X = iris.data[iris.target != 2]  # Only classes 0 and 1\n",
    "y = iris.target[iris.target != 2]\n",
    "\n",
    "# Split into training and testing sets\n",
    "X_train, X_test, y_train, y_test = train_test_split(X, y, test_size=0.3, random_state=42)\n",
    "\n",
    "# Standardize the features\n",
    "scaler = StandardScaler()\n",
    "X_train = scaler.fit_transform(X_train)\n",
    "X_test = scaler.transform(X_test)\n",
    "\n",
    "# Train the logistic regression model\n",
    "model = LogisticRegression()\n",
    "model.fit(X_train, y_train)\n",
    "\n",
    "# Make predictions\n",
    "y_pred = model.predict(X_test)\n",
    "\n",
    "# Evaluate the model\n",
    "accuracy = accuracy_score(y_test, y_pred)\n",
    "conf_matrix = confusion_matrix(y_test, y_pred)\n",
    "\n",
    "print(f\"Accuracy: {accuracy * 100:.2f}%\")\n",
    "print(\"Confusion Matrix:\")\n",
    "print(conf_matrix)\n"
   ]
  },
  {
   "cell_type": "code",
   "execution_count": 4,
   "metadata": {
    "execution": {
     "iopub.execute_input": "2025-01-19T03:48:35.569645Z",
     "iopub.status.busy": "2025-01-19T03:48:35.569076Z",
     "iopub.status.idle": "2025-01-19T03:48:35.577343Z",
     "shell.execute_reply": "2025-01-19T03:48:35.576073Z",
     "shell.execute_reply.started": "2025-01-19T03:48:35.569607Z"
    },
    "trusted": true
   },
   "outputs": [
    {
     "data": {
      "text/plain": [
       "(70, 4)"
      ]
     },
     "execution_count": 4,
     "metadata": {},
     "output_type": "execute_result"
    }
   ],
   "source": [
    "X_train.shape"
   ]
  },
  {
   "cell_type": "code",
   "execution_count": 6,
   "metadata": {
    "execution": {
     "iopub.execute_input": "2025-01-19T03:49:04.511476Z",
     "iopub.status.busy": "2025-01-19T03:49:04.511129Z",
     "iopub.status.idle": "2025-01-19T03:49:04.533479Z",
     "shell.execute_reply": "2025-01-19T03:49:04.531903Z",
     "shell.execute_reply.started": "2025-01-19T03:49:04.511450Z"
    },
    "trusted": true
   },
   "outputs": [
    {
     "data": {
      "text/html": [
       "<div>\n",
       "<style scoped>\n",
       "    .dataframe tbody tr th:only-of-type {\n",
       "        vertical-align: middle;\n",
       "    }\n",
       "\n",
       "    .dataframe tbody tr th {\n",
       "        vertical-align: top;\n",
       "    }\n",
       "\n",
       "    .dataframe thead th {\n",
       "        text-align: right;\n",
       "    }\n",
       "</style>\n",
       "<table border=\"1\" class=\"dataframe\">\n",
       "  <thead>\n",
       "    <tr style=\"text-align: right;\">\n",
       "      <th></th>\n",
       "      <th>0</th>\n",
       "      <th>1</th>\n",
       "      <th>2</th>\n",
       "      <th>3</th>\n",
       "    </tr>\n",
       "  </thead>\n",
       "  <tbody>\n",
       "    <tr>\n",
       "      <th>0</th>\n",
       "      <td>-1.028056</td>\n",
       "      <td>0.727482</td>\n",
       "      <td>-0.926212</td>\n",
       "      <td>-1.093326</td>\n",
       "    </tr>\n",
       "    <tr>\n",
       "      <th>1</th>\n",
       "      <td>-1.328531</td>\n",
       "      <td>0.290368</td>\n",
       "      <td>-1.068706</td>\n",
       "      <td>-1.093326</td>\n",
       "    </tr>\n",
       "    <tr>\n",
       "      <th>2</th>\n",
       "      <td>0.774798</td>\n",
       "      <td>0.727482</td>\n",
       "      <td>1.139953</td>\n",
       "      <td>1.427755</td>\n",
       "    </tr>\n",
       "    <tr>\n",
       "      <th>3</th>\n",
       "      <td>-0.427105</td>\n",
       "      <td>0.727482</td>\n",
       "      <td>-1.068706</td>\n",
       "      <td>-1.093326</td>\n",
       "    </tr>\n",
       "    <tr>\n",
       "      <th>4</th>\n",
       "      <td>-0.727580</td>\n",
       "      <td>-1.676644</td>\n",
       "      <td>0.284988</td>\n",
       "      <td>0.347292</td>\n",
       "    </tr>\n",
       "  </tbody>\n",
       "</table>\n",
       "</div>"
      ],
      "text/plain": [
       "          0         1         2         3\n",
       "0 -1.028056  0.727482 -0.926212 -1.093326\n",
       "1 -1.328531  0.290368 -1.068706 -1.093326\n",
       "2  0.774798  0.727482  1.139953  1.427755\n",
       "3 -0.427105  0.727482 -1.068706 -1.093326\n",
       "4 -0.727580 -1.676644  0.284988  0.347292"
      ]
     },
     "execution_count": 6,
     "metadata": {},
     "output_type": "execute_result"
    }
   ],
   "source": [
    "pd.DataFrame(X_train).head(5)"
   ]
  },
  {
   "cell_type": "code",
   "execution_count": 11,
   "metadata": {
    "execution": {
     "iopub.execute_input": "2025-01-19T10:42:47.982845Z",
     "iopub.status.busy": "2025-01-19T10:42:47.982232Z",
     "iopub.status.idle": "2025-01-19T10:42:47.997018Z",
     "shell.execute_reply": "2025-01-19T10:42:47.995819Z",
     "shell.execute_reply.started": "2025-01-19T10:42:47.982784Z"
    },
    "trusted": true
   },
   "outputs": [
    {
     "data": {
      "text/plain": [
       "(70,)"
      ]
     },
     "execution_count": 11,
     "metadata": {},
     "output_type": "execute_result"
    }
   ],
   "source": [
    "y_train.shape"
   ]
  },
  {
   "cell_type": "code",
   "execution_count": 44,
   "metadata": {
    "execution": {
     "iopub.execute_input": "2025-01-19T11:24:20.939274Z",
     "iopub.status.busy": "2025-01-19T11:24:20.938796Z",
     "iopub.status.idle": "2025-01-19T11:24:20.949453Z",
     "shell.execute_reply": "2025-01-19T11:24:20.948247Z",
     "shell.execute_reply.started": "2025-01-19T11:24:20.939227Z"
    },
    "trusted": true
   },
   "outputs": [
    {
     "data": {
      "text/html": [
       "<div>\n",
       "<style scoped>\n",
       "    .dataframe tbody tr th:only-of-type {\n",
       "        vertical-align: middle;\n",
       "    }\n",
       "\n",
       "    .dataframe tbody tr th {\n",
       "        vertical-align: top;\n",
       "    }\n",
       "\n",
       "    .dataframe thead th {\n",
       "        text-align: right;\n",
       "    }\n",
       "</style>\n",
       "<table border=\"1\" class=\"dataframe\">\n",
       "  <thead>\n",
       "    <tr style=\"text-align: right;\">\n",
       "      <th></th>\n",
       "      <th>0</th>\n",
       "    </tr>\n",
       "  </thead>\n",
       "  <tbody>\n",
       "    <tr>\n",
       "      <th>0</th>\n",
       "      <td>1</td>\n",
       "    </tr>\n",
       "    <tr>\n",
       "      <th>1</th>\n",
       "      <td>1</td>\n",
       "    </tr>\n",
       "    <tr>\n",
       "      <th>2</th>\n",
       "      <td>1</td>\n",
       "    </tr>\n",
       "    <tr>\n",
       "      <th>3</th>\n",
       "      <td>0</td>\n",
       "    </tr>\n",
       "    <tr>\n",
       "      <th>4</th>\n",
       "      <td>0</td>\n",
       "    </tr>\n",
       "  </tbody>\n",
       "</table>\n",
       "</div>"
      ],
      "text/plain": [
       "   0\n",
       "0  1\n",
       "1  1\n",
       "2  1\n",
       "3  0\n",
       "4  0"
      ]
     },
     "execution_count": 44,
     "metadata": {},
     "output_type": "execute_result"
    }
   ],
   "source": [
    "pd.DataFrame(y_pred).head(5)"
   ]
  },
  {
   "cell_type": "code",
   "execution_count": null,
   "metadata": {
    "trusted": true
   },
   "outputs": [],
   "source": []
  }
 ],
 "metadata": {
  "kaggle": {
   "accelerator": "none",
   "dataSources": [],
   "dockerImageVersionId": 30839,
   "isGpuEnabled": false,
   "isInternetEnabled": true,
   "language": "python",
   "sourceType": "notebook"
  },
  "kernelspec": {
   "display_name": "Python 3",
   "language": "python",
   "name": "python3"
  },
  "language_info": {
   "codemirror_mode": {
    "name": "ipython",
    "version": 3
   },
   "file_extension": ".py",
   "mimetype": "text/x-python",
   "name": "python",
   "nbconvert_exporter": "python",
   "pygments_lexer": "ipython3",
   "version": "3.10.12"
  }
 },
 "nbformat": 4,
 "nbformat_minor": 4
}
